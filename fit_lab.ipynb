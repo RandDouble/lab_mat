{
 "cells": [
  {
   "attachments": {},
   "cell_type": "markdown",
   "metadata": {},
   "source": [
    "# Fit dati del libro\n",
    "\n",
    "Siccome la Fra è simpatica e dobbiamo fare dei fit per trovarci lo spessore dell'oro senza dover fare ogni volta cambi di laboratorio ci ha chiesto di fare un fit dei dati...\n",
    "Stefano alla chiamata risponde dicendo, vaffanculo facciamo."
   ]
  },
  {
   "cell_type": "code",
   "execution_count": 29,
   "metadata": {},
   "outputs": [],
   "source": [
    "import matplotlib.pyplot as plt\n",
    "import numpy as np\n",
    "import pandas as pd\n",
    "import scipy.interpolate as interpolate\n",
    "\n",
    "%matplotlib inline\n",
    "# c = scipy.c # light speed, may be needed for a conversion\n",
    "# hbar = scipy.hbar # hbar... may be needed for a conversion\n"
   ]
  },
  {
   "cell_type": "code",
   "execution_count": 30,
   "metadata": {},
   "outputs": [
    {
     "data": {
      "text/html": [
       "<div>\n",
       "<style scoped>\n",
       "    .dataframe tbody tr th:only-of-type {\n",
       "        vertical-align: middle;\n",
       "    }\n",
       "\n",
       "    .dataframe tbody tr th {\n",
       "        vertical-align: top;\n",
       "    }\n",
       "\n",
       "    .dataframe thead th {\n",
       "        text-align: right;\n",
       "    }\n",
       "</style>\n",
       "<table border=\"1\" class=\"dataframe\">\n",
       "  <thead>\n",
       "    <tr style=\"text-align: right;\">\n",
       "      <th></th>\n",
       "      <th>eV</th>\n",
       "      <th>cm^-1</th>\n",
       "      <th>lambda</th>\n",
       "      <th>exp_lambda</th>\n",
       "      <th>n</th>\n",
       "      <th>k</th>\n",
       "      <th>exp_k</th>\n",
       "    </tr>\n",
       "  </thead>\n",
       "  <tbody>\n",
       "    <tr>\n",
       "      <th>0</th>\n",
       "      <td>9919.0</td>\n",
       "      <td>0.0</td>\n",
       "      <td>1.25</td>\n",
       "      <td>-10.0</td>\n",
       "      <td>0.999972</td>\n",
       "      <td>2.39</td>\n",
       "      <td>-6.0</td>\n",
       "    </tr>\n",
       "    <tr>\n",
       "      <th>1</th>\n",
       "      <td>9184.0</td>\n",
       "      <td>0.0</td>\n",
       "      <td>1.35</td>\n",
       "      <td>-10.0</td>\n",
       "      <td>0.999966</td>\n",
       "      <td>3.13</td>\n",
       "      <td>-6.0</td>\n",
       "    </tr>\n",
       "    <tr>\n",
       "      <th>2</th>\n",
       "      <td>8551.0</td>\n",
       "      <td>0.0</td>\n",
       "      <td>1.45</td>\n",
       "      <td>-10.0</td>\n",
       "      <td>0.999961</td>\n",
       "      <td>4.02</td>\n",
       "      <td>-6.0</td>\n",
       "    </tr>\n",
       "    <tr>\n",
       "      <th>3</th>\n",
       "      <td>8266.0</td>\n",
       "      <td>0.0</td>\n",
       "      <td>1.50</td>\n",
       "      <td>-10.0</td>\n",
       "      <td>0.999958</td>\n",
       "      <td>4.52</td>\n",
       "      <td>-6.0</td>\n",
       "    </tr>\n",
       "    <tr>\n",
       "      <th>4</th>\n",
       "      <td>7085.0</td>\n",
       "      <td>0.0</td>\n",
       "      <td>1.75</td>\n",
       "      <td>-10.0</td>\n",
       "      <td>0.999942</td>\n",
       "      <td>7.78</td>\n",
       "      <td>-6.0</td>\n",
       "    </tr>\n",
       "  </tbody>\n",
       "</table>\n",
       "</div>"
      ],
      "text/plain": [
       "      eV   cm^-1  lambda  exp_lambda         n     k  exp_k\n",
       "0  9919.0    0.0    1.25       -10.0  0.999972  2.39   -6.0\n",
       "1  9184.0    0.0    1.35       -10.0  0.999966  3.13   -6.0\n",
       "2  8551.0    0.0    1.45       -10.0  0.999961  4.02   -6.0\n",
       "3  8266.0    0.0    1.50       -10.0  0.999958  4.52   -6.0\n",
       "4  7085.0    0.0    1.75       -10.0  0.999942  7.78   -6.0"
      ]
     },
     "execution_count": 30,
     "metadata": {},
     "output_type": "execute_result"
    }
   ],
   "source": [
    "df = pd.read_csv(\"./data/book_data/Tabella_1.csv\", sep=\";\")\n",
    "df.head()"
   ]
  },
  {
   "cell_type": "code",
   "execution_count": 31,
   "metadata": {},
   "outputs": [
    {
     "data": {
      "text/html": [
       "<div>\n",
       "<style scoped>\n",
       "    .dataframe tbody tr th:only-of-type {\n",
       "        vertical-align: middle;\n",
       "    }\n",
       "\n",
       "    .dataframe tbody tr th {\n",
       "        vertical-align: top;\n",
       "    }\n",
       "\n",
       "    .dataframe thead th {\n",
       "        text-align: right;\n",
       "    }\n",
       "</style>\n",
       "<table border=\"1\" class=\"dataframe\">\n",
       "  <thead>\n",
       "    <tr style=\"text-align: right;\">\n",
       "      <th></th>\n",
       "      <th>eV</th>\n",
       "      <th>cm^-1</th>\n",
       "      <th>lambda</th>\n",
       "      <th>exp_lambda</th>\n",
       "      <th>n</th>\n",
       "      <th>k</th>\n",
       "      <th>exp_k</th>\n",
       "      <th>lambda_corrected</th>\n",
       "      <th>k_corrected</th>\n",
       "    </tr>\n",
       "  </thead>\n",
       "  <tbody>\n",
       "    <tr>\n",
       "      <th>0</th>\n",
       "      <td>9919.0</td>\n",
       "      <td>0.0</td>\n",
       "      <td>1.25</td>\n",
       "      <td>-10.0</td>\n",
       "      <td>0.999972</td>\n",
       "      <td>2.39</td>\n",
       "      <td>-6.0</td>\n",
       "      <td>1.250000e-10</td>\n",
       "      <td>0.000002</td>\n",
       "    </tr>\n",
       "    <tr>\n",
       "      <th>1</th>\n",
       "      <td>9184.0</td>\n",
       "      <td>0.0</td>\n",
       "      <td>1.35</td>\n",
       "      <td>-10.0</td>\n",
       "      <td>0.999966</td>\n",
       "      <td>3.13</td>\n",
       "      <td>-6.0</td>\n",
       "      <td>1.350000e-10</td>\n",
       "      <td>0.000003</td>\n",
       "    </tr>\n",
       "    <tr>\n",
       "      <th>2</th>\n",
       "      <td>8551.0</td>\n",
       "      <td>0.0</td>\n",
       "      <td>1.45</td>\n",
       "      <td>-10.0</td>\n",
       "      <td>0.999961</td>\n",
       "      <td>4.02</td>\n",
       "      <td>-6.0</td>\n",
       "      <td>1.450000e-10</td>\n",
       "      <td>0.000004</td>\n",
       "    </tr>\n",
       "    <tr>\n",
       "      <th>3</th>\n",
       "      <td>8266.0</td>\n",
       "      <td>0.0</td>\n",
       "      <td>1.50</td>\n",
       "      <td>-10.0</td>\n",
       "      <td>0.999958</td>\n",
       "      <td>4.52</td>\n",
       "      <td>-6.0</td>\n",
       "      <td>1.500000e-10</td>\n",
       "      <td>0.000005</td>\n",
       "    </tr>\n",
       "    <tr>\n",
       "      <th>4</th>\n",
       "      <td>7085.0</td>\n",
       "      <td>0.0</td>\n",
       "      <td>1.75</td>\n",
       "      <td>-10.0</td>\n",
       "      <td>0.999942</td>\n",
       "      <td>7.78</td>\n",
       "      <td>-6.0</td>\n",
       "      <td>1.750000e-10</td>\n",
       "      <td>0.000008</td>\n",
       "    </tr>\n",
       "  </tbody>\n",
       "</table>\n",
       "</div>"
      ],
      "text/plain": [
       "      eV   cm^-1  lambda  exp_lambda         n     k  exp_k  lambda_corrected  \\\n",
       "0  9919.0    0.0    1.25       -10.0  0.999972  2.39   -6.0      1.250000e-10   \n",
       "1  9184.0    0.0    1.35       -10.0  0.999966  3.13   -6.0      1.350000e-10   \n",
       "2  8551.0    0.0    1.45       -10.0  0.999961  4.02   -6.0      1.450000e-10   \n",
       "3  8266.0    0.0    1.50       -10.0  0.999958  4.52   -6.0      1.500000e-10   \n",
       "4  7085.0    0.0    1.75       -10.0  0.999942  7.78   -6.0      1.750000e-10   \n",
       "\n",
       "   k_corrected  \n",
       "0     0.000002  \n",
       "1     0.000003  \n",
       "2     0.000004  \n",
       "3     0.000005  \n",
       "4     0.000008  "
      ]
     },
     "execution_count": 31,
     "metadata": {},
     "output_type": "execute_result"
    }
   ],
   "source": [
    "df[\"lambda_corrected\"] = df['lambda'] * 10 ** df[\"exp_lambda\"]\n",
    "df[\"k_corrected\"] = df['k'] * 10 ** df[\"exp_k\"]\n",
    "df.head()"
   ]
  },
  {
   "cell_type": "code",
   "execution_count": 35,
   "metadata": {},
   "outputs": [
    {
     "data": {
      "text/plain": [
       "<matplotlib.legend.Legend at 0x7f1d7d27dfa0>"
      ]
     },
     "execution_count": 35,
     "metadata": {},
     "output_type": "execute_result"
    },
    {
     "data": {
      "image/png": "[encoded data removed]",
      "text/plain": [
       "<Figure size 640x480 with 1 Axes>"
      ]
     },
     "metadata": {},
     "output_type": "display_data"
    }
   ],
   "source": [
    "plt.plot(\"lambda_corrected\", \"k_corrected\", \"o\", data=df[(df[\"lambda_corrected\"]<900e-9) & (df[\"lambda_corrected\"] > 250e-9)], label= \"book_data\" )\n",
    "plt.xlabel(r\"$\\lambda [m]$\")\n",
    "plt.ylabel(r\"$k [m^{-1}]$\")\n",
    "plt.legend()"
   ]
  },
  {
   "cell_type": "code",
   "execution_count": 43,
   "metadata": {},
   "outputs": [
    {
     "data": {
      "text/plain": [
       "<matplotlib.legend.Legend at 0x7f1d7d01bfd0>"
      ]
     },
     "execution_count": 43,
     "metadata": {},
     "output_type": "execute_result"
    },
    {
     "data": {
      "image/png": "[encoded data removed]",
      "text/plain": [
       "<Figure size 640x480 with 1 Axes>"
      ]
     },
     "metadata": {},
     "output_type": "display_data"
    }
   ],
   "source": [
    "filter = (df[\"lambda_corrected\"]<900e-9) & (df[\"lambda_corrected\"] > 250e-9)\n",
    "coeff = np.polyfit(df[filter][\"lambda_corrected\"], df[filter][\"k_corrected\"], deg=13)\n",
    "fun = np.poly1d(coeff)\n",
    "\n",
    "x = df[filter][\"lambda_corrected\"]\n",
    "\n",
    "plt.plot(\"lambda_corrected\", \"k_corrected\", \".\", data=df[filter], label= \"book_data\")\n",
    "plt.plot(x, fun(x), \"--\", label=\"fit\")\n",
    "plt.legend()"
   ]
  }
 ],
 "metadata": {
  "kernelspec": {
   "display_name": "base",
   "language": "python",
   "name": "python3"
  },
  "language_info": {
   "codemirror_mode": {
    "name": "ipython",
    "version": 3
   },
   "file_extension": ".py",
   "mimetype": "text/x-python",
   "name": "python",
   "nbconvert_exporter": "python",
   "pygments_lexer": "ipython3",
   "version": "3.9.15"
  },
  "orig_nbformat": 4
 },
 "nbformat": 4,
 "nbformat_minor": 2
}
