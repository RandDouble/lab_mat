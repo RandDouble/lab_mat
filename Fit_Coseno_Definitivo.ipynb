{
 "cells": [
  {
   "attachments": {},
   "cell_type": "markdown",
   "metadata": {},
   "source": [
    "# Puliamo sti cazzo di dati definitivamente\n",
    "\n",
    "Per prima cosa importiamo le posizioni x e y di questi dati"
   ]
  },
  {
   "cell_type": "code",
   "execution_count": 2,
   "metadata": {},
   "outputs": [],
   "source": [
    "import matplotlib.pyplot as plt\n",
    "import  numpy as np\n",
    "import pandas as pd\n",
    "\n",
    "plt.style.use(\"seaborn-v0_8-darkgrid\")"
   ]
  },
  {
   "cell_type": "code",
   "execution_count": 3,
   "metadata": {},
   "outputs": [],
   "source": [
    "zero_spettrofotometro = pd.read_csv(\"Zero_Vetrini.csv\") # micrometers\n",
    "zero_depositore = 1.6e-2 # meter\n",
    "posizione_vetrini = pd.read_csv(\"Posizioni_Vetrini.csv\") # micrometers"
   ]
  },
  {
   "cell_type": "code",
   "execution_count": 4,
   "metadata": {},
   "outputs": [
    {
     "data": {
      "text/html": [
       "<div>\n",
       "<style scoped>\n",
       "    .dataframe tbody tr th:only-of-type {\n",
       "        vertical-align: middle;\n",
       "    }\n",
       "\n",
       "    .dataframe tbody tr th {\n",
       "        vertical-align: top;\n",
       "    }\n",
       "\n",
       "    .dataframe thead th {\n",
       "        text-align: right;\n",
       "    }\n",
       "</style>\n",
       "<table border=\"1\" class=\"dataframe\">\n",
       "  <thead>\n",
       "    <tr style=\"text-align: right;\">\n",
       "      <th></th>\n",
       "      <th>dir</th>\n",
       "      <th>x_pos</th>\n",
       "      <th>y_pos</th>\n",
       "    </tr>\n",
       "  </thead>\n",
       "  <tbody>\n",
       "    <tr>\n",
       "      <th>0</th>\n",
       "      <td>/data/21_04_I</td>\n",
       "      <td>-7530</td>\n",
       "      <td>41000</td>\n",
       "    </tr>\n",
       "    <tr>\n",
       "      <th>1</th>\n",
       "      <td>/data/02_05_II</td>\n",
       "      <td>8500</td>\n",
       "      <td>63000</td>\n",
       "    </tr>\n",
       "    <tr>\n",
       "      <th>2</th>\n",
       "      <td>/data/02_05_III</td>\n",
       "      <td>12700</td>\n",
       "      <td>57150</td>\n",
       "    </tr>\n",
       "    <tr>\n",
       "      <th>3</th>\n",
       "      <td>/data/28_04_IV</td>\n",
       "      <td>-2333</td>\n",
       "      <td>46831</td>\n",
       "    </tr>\n",
       "  </tbody>\n",
       "</table>\n",
       "</div>"
      ],
      "text/plain": [
       "               dir  x_pos  y_pos\n",
       "0    /data/21_04_I  -7530  41000\n",
       "1   /data/02_05_II   8500  63000\n",
       "2  /data/02_05_III  12700  57150\n",
       "3   /data/28_04_IV  -2333  46831"
      ]
     },
     "execution_count": 4,
     "metadata": {},
     "output_type": "execute_result"
    }
   ],
   "source": [
    "zero_spettrofotometro"
   ]
  },
  {
   "cell_type": "code",
   "execution_count": 5,
   "metadata": {},
   "outputs": [
    {
     "data": {
      "text/html": [
       "<div>\n",
       "<style scoped>\n",
       "    .dataframe tbody tr th:only-of-type {\n",
       "        vertical-align: middle;\n",
       "    }\n",
       "\n",
       "    .dataframe tbody tr th {\n",
       "        vertical-align: top;\n",
       "    }\n",
       "\n",
       "    .dataframe thead th {\n",
       "        text-align: right;\n",
       "    }\n",
       "</style>\n",
       "<table border=\"1\" class=\"dataframe\">\n",
       "  <thead>\n",
       "    <tr style=\"text-align: right;\">\n",
       "      <th></th>\n",
       "      <th>file</th>\n",
       "      <th>x_pos</th>\n",
       "      <th>y_pos</th>\n",
       "    </tr>\n",
       "  </thead>\n",
       "  <tbody>\n",
       "    <tr>\n",
       "      <th>0</th>\n",
       "      <td>/data/21_04_I/M1</td>\n",
       "      <td>-7322</td>\n",
       "      <td>34334</td>\n",
       "    </tr>\n",
       "    <tr>\n",
       "      <th>1</th>\n",
       "      <td>/data/21_04_I/M2</td>\n",
       "      <td>-7090</td>\n",
       "      <td>27553</td>\n",
       "    </tr>\n",
       "    <tr>\n",
       "      <th>2</th>\n",
       "      <td>/data/21_04_I/M3</td>\n",
       "      <td>-6866</td>\n",
       "      <td>20749</td>\n",
       "    </tr>\n",
       "    <tr>\n",
       "      <th>3</th>\n",
       "      <td>/data/21_04_I/M4</td>\n",
       "      <td>-6634</td>\n",
       "      <td>14400</td>\n",
       "    </tr>\n",
       "    <tr>\n",
       "      <th>4</th>\n",
       "      <td>/data/21_04_I/M5</td>\n",
       "      <td>-6380</td>\n",
       "      <td>7882</td>\n",
       "    </tr>\n",
       "    <tr>\n",
       "      <th>5</th>\n",
       "      <td>/data/21_04_I/M6</td>\n",
       "      <td>-6112</td>\n",
       "      <td>1142</td>\n",
       "    </tr>\n",
       "    <tr>\n",
       "      <th>6</th>\n",
       "      <td>/data/21_04_I/M7</td>\n",
       "      <td>-5576</td>\n",
       "      <td>-5309</td>\n",
       "    </tr>\n",
       "    <tr>\n",
       "      <th>7</th>\n",
       "      <td>/data/21_04_I/M8</td>\n",
       "      <td>-4836</td>\n",
       "      <td>-12138</td>\n",
       "    </tr>\n",
       "    <tr>\n",
       "      <th>8</th>\n",
       "      <td>/data/28_04_IV/M1</td>\n",
       "      <td>-3973</td>\n",
       "      <td>36559</td>\n",
       "    </tr>\n",
       "    <tr>\n",
       "      <th>9</th>\n",
       "      <td>/data/28_04_IV/M2</td>\n",
       "      <td>-3970</td>\n",
       "      <td>26453</td>\n",
       "    </tr>\n",
       "    <tr>\n",
       "      <th>10</th>\n",
       "      <td>/data/28_04_IV/M3</td>\n",
       "      <td>-4204</td>\n",
       "      <td>4431</td>\n",
       "    </tr>\n",
       "    <tr>\n",
       "      <th>11</th>\n",
       "      <td>/data/28_04_IV/M4</td>\n",
       "      <td>7651</td>\n",
       "      <td>-15741</td>\n",
       "    </tr>\n",
       "    <tr>\n",
       "      <th>12</th>\n",
       "      <td>/data/02_05_II/M1</td>\n",
       "      <td>9085</td>\n",
       "      <td>59589</td>\n",
       "    </tr>\n",
       "    <tr>\n",
       "      <th>13</th>\n",
       "      <td>/data/02_05_II/M2</td>\n",
       "      <td>9416</td>\n",
       "      <td>50198</td>\n",
       "    </tr>\n",
       "    <tr>\n",
       "      <th>14</th>\n",
       "      <td>/data/02_05_II/M3</td>\n",
       "      <td>11147</td>\n",
       "      <td>-4033</td>\n",
       "    </tr>\n",
       "    <tr>\n",
       "      <th>15</th>\n",
       "      <td>/data/02_05_II/M4</td>\n",
       "      <td>11087</td>\n",
       "      <td>-1084</td>\n",
       "    </tr>\n",
       "    <tr>\n",
       "      <th>16</th>\n",
       "      <td>/data/02_05_III/M1</td>\n",
       "      <td>-1838</td>\n",
       "      <td>-12385</td>\n",
       "    </tr>\n",
       "    <tr>\n",
       "      <th>17</th>\n",
       "      <td>/data/02_05_III/M2</td>\n",
       "      <td>-6565</td>\n",
       "      <td>52867</td>\n",
       "    </tr>\n",
       "    <tr>\n",
       "      <th>18</th>\n",
       "      <td>/data/02_05_III/M3</td>\n",
       "      <td>-2046</td>\n",
       "      <td>-10598</td>\n",
       "    </tr>\n",
       "    <tr>\n",
       "      <th>19</th>\n",
       "      <td>/data/02_05_III/M4</td>\n",
       "      <td>-6046</td>\n",
       "      <td>46601</td>\n",
       "    </tr>\n",
       "  </tbody>\n",
       "</table>\n",
       "</div>"
      ],
      "text/plain": [
       "                  file   x_pos   y_pos\n",
       "0     /data/21_04_I/M1   -7322   34334\n",
       "1     /data/21_04_I/M2   -7090   27553\n",
       "2     /data/21_04_I/M3   -6866   20749\n",
       "3     /data/21_04_I/M4   -6634   14400\n",
       "4     /data/21_04_I/M5   -6380    7882\n",
       "5     /data/21_04_I/M6   -6112    1142\n",
       "6     /data/21_04_I/M7   -5576   -5309\n",
       "7     /data/21_04_I/M8   -4836  -12138\n",
       "8    /data/28_04_IV/M1   -3973   36559\n",
       "9    /data/28_04_IV/M2   -3970   26453\n",
       "10   /data/28_04_IV/M3   -4204    4431\n",
       "11   /data/28_04_IV/M4    7651  -15741\n",
       "12   /data/02_05_II/M1    9085   59589\n",
       "13   /data/02_05_II/M2    9416   50198\n",
       "14   /data/02_05_II/M3   11147   -4033\n",
       "15   /data/02_05_II/M4   11087   -1084\n",
       "16  /data/02_05_III/M1   -1838  -12385\n",
       "17  /data/02_05_III/M2   -6565   52867\n",
       "18  /data/02_05_III/M3   -2046  -10598\n",
       "19  /data/02_05_III/M4   -6046   46601"
      ]
     },
     "execution_count": 5,
     "metadata": {},
     "output_type": "execute_result"
    }
   ],
   "source": [
    "posizione_vetrini\n",
    "\n"
   ]
  },
  {
   "attachments": {},
   "cell_type": "markdown",
   "metadata": {},
   "source": [
    "è necessario calcolare la distanza di queste misure rispetto allo zero del vetrino... possiamo usare la metrica euclidea"
   ]
  },
  {
   "cell_type": "code",
   "execution_count": 6,
   "metadata": {},
   "outputs": [],
   "source": [
    "def distance(x_1, y_1, x_2, y_2):\n",
    "    return np.sqrt(\n",
    "        (x_1- x_2)**2 + (y_1 - y_2)**2 \n",
    "    )"
   ]
  },
  {
   "attachments": {},
   "cell_type": "markdown",
   "metadata": {},
   "source": [
    "Ora passiamo intelligentemente i parametri a distance... Dobbiamo metterli in un file finale ricordiamo a cui poi aggiungeremo i parametri delle due gaussiane in un modo furbo."
   ]
  },
  {
   "cell_type": "code",
   "execution_count": 7,
   "metadata": {},
   "outputs": [
    {
     "data": {
      "text/plain": [
       "0     6669.244335\n",
       "1    13454.196706\n",
       "2    20261.882859\n",
       "3    26615.086248\n",
       "4    33137.960468\n",
       "5    39883.215618\n",
       "6    46350.206008\n",
       "7    53206.246626\n",
       "dtype: float64"
      ]
     },
     "execution_count": 7,
     "metadata": {},
     "output_type": "execute_result"
    }
   ],
   "source": [
    "vetrino_1 = distance(\n",
    "    posizione_vetrini.iloc[0:8][\" x_pos\"],\n",
    "    posizione_vetrini.iloc[0:8][\" y_pos\"],\n",
    "    zero_spettrofotometro[\"x_pos\"].loc[0],\n",
    "    zero_spettrofotometro[\"y_pos\"].loc[0],\n",
    ")\n",
    "vetrino_1"
   ]
  },
  {
   "cell_type": "code",
   "execution_count": 8,
   "metadata": {},
   "outputs": [
    {
     "data": {
      "text/plain": [
       "8     10402.095174\n",
       "9     20443.645785\n",
       "10    42441.261068\n",
       "11    63363.518210\n",
       "dtype: float64"
      ]
     },
     "execution_count": 8,
     "metadata": {},
     "output_type": "execute_result"
    }
   ],
   "source": [
    "vetrino_2 = distance(\n",
    "    posizione_vetrini.iloc[8:12][\" x_pos\"],\n",
    "    posizione_vetrini.iloc[8:12][\" y_pos\"],\n",
    "    zero_spettrofotometro[\"x_pos\"].loc[3],\n",
    "    zero_spettrofotometro[\"y_pos\"].loc[3],\n",
    ")\n",
    "vetrino_2"
   ]
  },
  {
   "cell_type": "code",
   "execution_count": 9,
   "metadata": {},
   "outputs": [
    {
     "data": {
      "text/plain": [
       "12     3460.801352\n",
       "13    12834.728669\n",
       "14    67085.242028\n",
       "15    64136.195904\n",
       "dtype: float64"
      ]
     },
     "execution_count": 9,
     "metadata": {},
     "output_type": "execute_result"
    }
   ],
   "source": [
    "vetrino_3 = distance(\n",
    "    posizione_vetrini.iloc[12:16][\" x_pos\"],\n",
    "    posizione_vetrini.iloc[12:16][\" y_pos\"],\n",
    "    zero_spettrofotometro[\"x_pos\"].loc[1],\n",
    "    zero_spettrofotometro[\"y_pos\"].loc[1],\n",
    ")\n",
    "vetrino_3"
   ]
  },
  {
   "cell_type": "code",
   "execution_count": 10,
   "metadata": {},
   "outputs": [
    {
     "data": {
      "text/plain": [
       "16    71038.508353\n",
       "17    19735.356951\n",
       "18    69334.234113\n",
       "19    21510.321174\n",
       "dtype: float64"
      ]
     },
     "execution_count": 10,
     "metadata": {},
     "output_type": "execute_result"
    }
   ],
   "source": [
    "vetrino_4 = distance(\n",
    "    posizione_vetrini.iloc[16:20][\" x_pos\"],\n",
    "    posizione_vetrini.iloc[16:20][\" y_pos\"],\n",
    "    zero_spettrofotometro[\"x_pos\"].loc[2],\n",
    "    zero_spettrofotometro[\"y_pos\"].loc[2],\n",
    ")\n",
    "vetrino_4"
   ]
  },
  {
   "attachments": {},
   "cell_type": "markdown",
   "metadata": {},
   "source": [
    "Ora che ho calcolato tutte le distanze, le converto da micrometri, in metri, perché SI"
   ]
  },
  {
   "cell_type": "code",
   "execution_count": 11,
   "metadata": {},
   "outputs": [
    {
     "data": {
      "text/plain": [
       "0    0.006669\n",
       "1    0.013454\n",
       "2    0.020262\n",
       "3    0.026615\n",
       "4    0.033138\n",
       "5    0.039883\n",
       "6    0.046350\n",
       "7    0.053206\n",
       "dtype: float64"
      ]
     },
     "execution_count": 11,
     "metadata": {},
     "output_type": "execute_result"
    }
   ],
   "source": [
    "vetrino_1*=1e-6\n",
    "vetrino_2*=1e-6\n",
    "vetrino_3*=1e-6\n",
    "vetrino_4*=1e-6\n",
    "\n",
    "vetrino_1"
   ]
  },
  {
   "attachments": {},
   "cell_type": "markdown",
   "metadata": {},
   "source": [
    "Aggiungo alle posizioni lo zero del depositore, in questo modo posso usare queste grandezze per il plot"
   ]
  },
  {
   "cell_type": "code",
   "execution_count": 12,
   "metadata": {},
   "outputs": [],
   "source": [
    "vetrino_1+=zero_depositore\n",
    "vetrino_2+=zero_depositore\n",
    "vetrino_3+=zero_depositore\n",
    "vetrino_4+=zero_depositore\n"
   ]
  },
  {
   "cell_type": "code",
   "execution_count": 13,
   "metadata": {},
   "outputs": [
    {
     "data": {
      "text/plain": [
       "0    0.022669\n",
       "1    0.029454\n",
       "2    0.036262\n",
       "3    0.042615\n",
       "4    0.049138\n",
       "5    0.055883\n",
       "6    0.062350\n",
       "7    0.069206\n",
       "dtype: float64"
      ]
     },
     "execution_count": 13,
     "metadata": {},
     "output_type": "execute_result"
    }
   ],
   "source": [
    "vetrino_1"
   ]
  },
  {
   "cell_type": "code",
   "execution_count": 14,
   "metadata": {},
   "outputs": [
    {
     "data": {
      "text/plain": [
       "8     0.026402\n",
       "9     0.036444\n",
       "10    0.058441\n",
       "11    0.079364\n",
       "dtype: float64"
      ]
     },
     "execution_count": 14,
     "metadata": {},
     "output_type": "execute_result"
    }
   ],
   "source": [
    "vetrino_2"
   ]
  },
  {
   "cell_type": "code",
   "execution_count": 15,
   "metadata": {},
   "outputs": [
    {
     "data": {
      "text/plain": [
       "12    0.019461\n",
       "13    0.028835\n",
       "14    0.083085\n",
       "15    0.080136\n",
       "dtype: float64"
      ]
     },
     "execution_count": 15,
     "metadata": {},
     "output_type": "execute_result"
    }
   ],
   "source": [
    "vetrino_3"
   ]
  },
  {
   "cell_type": "code",
   "execution_count": 16,
   "metadata": {},
   "outputs": [
    {
     "data": {
      "text/plain": [
       "16    0.087039\n",
       "17    0.035735\n",
       "18    0.085334\n",
       "19    0.037510\n",
       "dtype: float64"
      ]
     },
     "execution_count": 16,
     "metadata": {},
     "output_type": "execute_result"
    }
   ],
   "source": [
    "vetrino_4"
   ]
  },
  {
   "cell_type": "code",
   "execution_count": 17,
   "metadata": {},
   "outputs": [],
   "source": [
    "def cosine_law(x_pos, prop_const, pow, distance=12e-2):\n",
    "    theta = np.arctan2(x_pos, distance)\n",
    "    return prop_const * np.cos(theta) ** pow / distance**2"
   ]
  },
  {
   "cell_type": "code",
   "execution_count": 19,
   "metadata": {},
   "outputs": [
    {
     "name": "stderr",
     "output_type": "stream",
     "text": [
      "/tmp/ipykernel_1258/770033093.py:1: FutureWarning: In a future version of pandas all arguments of concat except for the argument 'objs' will be keyword-only.\n",
      "  pd.concat(vetrino_1, vetrino_2, vetrino_3, vetrino_4)\n"
     ]
    },
    {
     "ename": "TypeError",
     "evalue": "first argument must be an iterable of pandas objects, you passed an object of type \"Series\"",
     "output_type": "error",
     "traceback": [
      "\u001b[0;31m---------------------------------------------------------------------------\u001b[0m",
      "\u001b[0;31mTypeError\u001b[0m                                 Traceback (most recent call last)",
      "Cell \u001b[0;32mIn[19], line 1\u001b[0m\n\u001b[0;32m----> 1\u001b[0m pd\u001b[39m.\u001b[39;49mconcat(vetrino_1, vetrino_2, vetrino_3, vetrino_4)\n",
      "File \u001b[0;32m~/miniconda3/envs/codeLab310/lib/python3.10/site-packages/pandas/util/_decorators.py:331\u001b[0m, in \u001b[0;36mdeprecate_nonkeyword_arguments.<locals>.decorate.<locals>.wrapper\u001b[0;34m(*args, **kwargs)\u001b[0m\n\u001b[1;32m    325\u001b[0m \u001b[39mif\u001b[39;00m \u001b[39mlen\u001b[39m(args) \u001b[39m>\u001b[39m num_allow_args:\n\u001b[1;32m    326\u001b[0m     warnings\u001b[39m.\u001b[39mwarn(\n\u001b[1;32m    327\u001b[0m         msg\u001b[39m.\u001b[39mformat(arguments\u001b[39m=\u001b[39m_format_argument_list(allow_args)),\n\u001b[1;32m    328\u001b[0m         \u001b[39mFutureWarning\u001b[39;00m,\n\u001b[1;32m    329\u001b[0m         stacklevel\u001b[39m=\u001b[39mfind_stack_level(),\n\u001b[1;32m    330\u001b[0m     )\n\u001b[0;32m--> 331\u001b[0m \u001b[39mreturn\u001b[39;00m func(\u001b[39m*\u001b[39;49margs, \u001b[39m*\u001b[39;49m\u001b[39m*\u001b[39;49mkwargs)\n",
      "File \u001b[0;32m~/miniconda3/envs/codeLab310/lib/python3.10/site-packages/pandas/core/reshape/concat.py:368\u001b[0m, in \u001b[0;36mconcat\u001b[0;34m(objs, axis, join, ignore_index, keys, levels, names, verify_integrity, sort, copy)\u001b[0m\n\u001b[1;32m    146\u001b[0m \u001b[39m@deprecate_nonkeyword_arguments\u001b[39m(version\u001b[39m=\u001b[39m\u001b[39mNone\u001b[39;00m, allowed_args\u001b[39m=\u001b[39m[\u001b[39m\"\u001b[39m\u001b[39mobjs\u001b[39m\u001b[39m\"\u001b[39m])\n\u001b[1;32m    147\u001b[0m \u001b[39mdef\u001b[39;00m \u001b[39mconcat\u001b[39m(\n\u001b[1;32m    148\u001b[0m     objs: Iterable[NDFrame] \u001b[39m|\u001b[39m Mapping[HashableT, NDFrame],\n\u001b[0;32m   (...)\u001b[0m\n\u001b[1;32m    157\u001b[0m     copy: \u001b[39mbool\u001b[39m \u001b[39m=\u001b[39m \u001b[39mTrue\u001b[39;00m,\n\u001b[1;32m    158\u001b[0m ) \u001b[39m-\u001b[39m\u001b[39m>\u001b[39m DataFrame \u001b[39m|\u001b[39m Series:\n\u001b[1;32m    159\u001b[0m \u001b[39m    \u001b[39m\u001b[39m\"\"\"\u001b[39;00m\n\u001b[1;32m    160\u001b[0m \u001b[39m    Concatenate pandas objects along a particular axis.\u001b[39;00m\n\u001b[1;32m    161\u001b[0m \n\u001b[0;32m   (...)\u001b[0m\n\u001b[1;32m    366\u001b[0m \u001b[39m    1   3   4\u001b[39;00m\n\u001b[1;32m    367\u001b[0m \u001b[39m    \"\"\"\u001b[39;00m\n\u001b[0;32m--> 368\u001b[0m     op \u001b[39m=\u001b[39m _Concatenator(\n\u001b[1;32m    369\u001b[0m         objs,\n\u001b[1;32m    370\u001b[0m         axis\u001b[39m=\u001b[39;49maxis,\n\u001b[1;32m    371\u001b[0m         ignore_index\u001b[39m=\u001b[39;49mignore_index,\n\u001b[1;32m    372\u001b[0m         join\u001b[39m=\u001b[39;49mjoin,\n\u001b[1;32m    373\u001b[0m         keys\u001b[39m=\u001b[39;49mkeys,\n\u001b[1;32m    374\u001b[0m         levels\u001b[39m=\u001b[39;49mlevels,\n\u001b[1;32m    375\u001b[0m         names\u001b[39m=\u001b[39;49mnames,\n\u001b[1;32m    376\u001b[0m         verify_integrity\u001b[39m=\u001b[39;49mverify_integrity,\n\u001b[1;32m    377\u001b[0m         copy\u001b[39m=\u001b[39;49mcopy,\n\u001b[1;32m    378\u001b[0m         sort\u001b[39m=\u001b[39;49msort,\n\u001b[1;32m    379\u001b[0m     )\n\u001b[1;32m    381\u001b[0m     \u001b[39mreturn\u001b[39;00m op\u001b[39m.\u001b[39mget_result()\n",
      "File \u001b[0;32m~/miniconda3/envs/codeLab310/lib/python3.10/site-packages/pandas/core/reshape/concat.py:403\u001b[0m, in \u001b[0;36m_Concatenator.__init__\u001b[0;34m(self, objs, axis, join, keys, levels, names, ignore_index, verify_integrity, copy, sort)\u001b[0m\n\u001b[1;32m    389\u001b[0m \u001b[39mdef\u001b[39;00m \u001b[39m__init__\u001b[39m(\n\u001b[1;32m    390\u001b[0m     \u001b[39mself\u001b[39m,\n\u001b[1;32m    391\u001b[0m     objs: Iterable[NDFrame] \u001b[39m|\u001b[39m Mapping[HashableT, NDFrame],\n\u001b[0;32m   (...)\u001b[0m\n\u001b[1;32m    400\u001b[0m     sort\u001b[39m=\u001b[39m\u001b[39mFalse\u001b[39;00m,\n\u001b[1;32m    401\u001b[0m ) \u001b[39m-\u001b[39m\u001b[39m>\u001b[39m \u001b[39mNone\u001b[39;00m:\n\u001b[1;32m    402\u001b[0m     \u001b[39mif\u001b[39;00m \u001b[39misinstance\u001b[39m(objs, (ABCSeries, ABCDataFrame, \u001b[39mstr\u001b[39m)):\n\u001b[0;32m--> 403\u001b[0m         \u001b[39mraise\u001b[39;00m \u001b[39mTypeError\u001b[39;00m(\n\u001b[1;32m    404\u001b[0m             \u001b[39m\"\u001b[39m\u001b[39mfirst argument must be an iterable of pandas \u001b[39m\u001b[39m\"\u001b[39m\n\u001b[1;32m    405\u001b[0m             \u001b[39mf\u001b[39m\u001b[39m'\u001b[39m\u001b[39mobjects, you passed an object of type \u001b[39m\u001b[39m\"\u001b[39m\u001b[39m{\u001b[39;00m\u001b[39mtype\u001b[39m(objs)\u001b[39m.\u001b[39m\u001b[39m__name__\u001b[39m\u001b[39m}\u001b[39;00m\u001b[39m\"\u001b[39m\u001b[39m'\u001b[39m\n\u001b[1;32m    406\u001b[0m         )\n\u001b[1;32m    408\u001b[0m     \u001b[39mif\u001b[39;00m join \u001b[39m==\u001b[39m \u001b[39m\"\u001b[39m\u001b[39mouter\u001b[39m\u001b[39m\"\u001b[39m:\n\u001b[1;32m    409\u001b[0m         \u001b[39mself\u001b[39m\u001b[39m.\u001b[39mintersect \u001b[39m=\u001b[39m \u001b[39mFalse\u001b[39;00m\n",
      "\u001b[0;31mTypeError\u001b[0m: first argument must be an iterable of pandas objects, you passed an object of type \"Series\""
     ]
    }
   ],
   "source": [
    "pd.concat(vetrino_1, vetrino_2, vetrino_3, vetrino_4)"
   ]
  }
 ],
 "metadata": {
  "kernelspec": {
   "display_name": "codeLab310",
   "language": "python",
   "name": "python3"
  },
  "language_info": {
   "codemirror_mode": {
    "name": "ipython",
    "version": 3
   },
   "file_extension": ".py",
   "mimetype": "text/x-python",
   "name": "python",
   "nbconvert_exporter": "python",
   "pygments_lexer": "ipython3",
   "version": "3.10.11"
  },
  "orig_nbformat": 4
 },
 "nbformat": 4,
 "nbformat_minor": 2
}
