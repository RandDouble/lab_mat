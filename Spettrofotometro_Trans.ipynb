{
 "cells": [
  {
   "attachments": {},
   "cell_type": "markdown",
   "metadata": {},
   "source": [
    "# Grafici Trasmittanza Spettrofotometro\n"
   ]
  },
  {
   "cell_type": "code",
   "execution_count": 25,
   "metadata": {},
   "outputs": [
    {
     "name": "stderr",
     "output_type": "stream",
     "text": [
      "C:\\Users\\ginob\\AppData\\Local\\Temp\\ipykernel_2368\\684767676.py:12: MatplotlibDeprecationWarning: The seaborn styles shipped by Matplotlib are deprecated since 3.6, as they no longer correspond to the styles shipped by seaborn. However, they will remain available as 'seaborn-v0_8-<style>'. Alternatively, directly use the seaborn API instead.\n",
      "  plt.style.use(\"seaborn\")\n"
     ]
    }
   ],
   "source": [
    "import Functions_Tries.plotter as plotter\n",
    "import Functions_Tries.cleaner as cleaner\n",
    "import matplotlib.pyplot as plt\n",
    "from scipy.interpolate import CubicSpline\n",
    "from scipy.optimize import curve_fit\n",
    "import pandas as pd\n",
    "import numpy as np\n",
    "from Functions_Tries.transmittance import Transmittance\n",
    "from pathlib import Path\n",
    "\n",
    "\n",
    "plt.style.use(\"seaborn\")"
   ]
  },
  {
   "cell_type": "code",
   "execution_count": 28,
   "metadata": {},
   "outputs": [
    {
     "name": "stdout",
     "output_type": "stream",
     "text": [
      "data\\12-05_spettrofotometro\\ELAB\\Aria-Aria_Trasm_1.csv\n"
     ]
    },
    {
     "ename": "ValueError",
     "evalue": "`ydata` must not be empty!",
     "output_type": "error",
     "traceback": [
      "\u001b[1;31m---------------------------------------------------------------------------\u001b[0m",
      "\u001b[1;31mValueError\u001b[0m                                Traceback (most recent call last)",
      "Cell \u001b[1;32mIn[28], line 47\u001b[0m\n\u001b[0;32m     44\u001b[0m         \u001b[39mfor\u001b[39;00m file \u001b[39min\u001b[39;00m i\u001b[39m.\u001b[39miterdir():\n\u001b[0;32m     45\u001b[0m             \u001b[39mprint\u001b[39m(file, optimizer(file))\n\u001b[1;32m---> 47\u001b[0m iterazione(\u001b[39mdir\u001b[39;49m)\n",
      "Cell \u001b[1;32mIn[28], line 32\u001b[0m, in \u001b[0;36miterazione\u001b[1;34m(path)\u001b[0m\n\u001b[0;32m     30\u001b[0m     \u001b[39mfor\u001b[39;00m file \u001b[39min\u001b[39;00m folder\u001b[39m.\u001b[39miterdir():\n\u001b[0;32m     31\u001b[0m         \u001b[39mprint\u001b[39m(file)\n\u001b[1;32m---> 32\u001b[0m         \u001b[39mprint\u001b[39m(optimizer(file))    \n\u001b[0;32m     33\u001b[0m \u001b[39melse\u001b[39;00m:\n\u001b[0;32m     34\u001b[0m     \u001b[39mprint\u001b[39m(\u001b[39m\"\u001b[39m\u001b[39mLa cartella non è Elab... gestiamo logica dopo\u001b[39m\u001b[39m\"\u001b[39m)\n",
      "Cell \u001b[1;32mIn[28], line 14\u001b[0m, in \u001b[0;36moptimizer\u001b[1;34m(path)\u001b[0m\n\u001b[0;32m     12\u001b[0m df\u001b[39m=\u001b[39mpd\u001b[39m.\u001b[39mread_csv(path)\n\u001b[0;32m     13\u001b[0m df\u001b[39m.\u001b[39mhead()\n\u001b[1;32m---> 14\u001b[0m popt, pcov \u001b[39m=\u001b[39m curve_fit(\n\u001b[0;32m     15\u001b[0m     Trans\u001b[39m.\u001b[39;49mbeer_lambert,\n\u001b[0;32m     16\u001b[0m     df[(df[\u001b[39m\"\u001b[39;49m\u001b[39mlambda\u001b[39;49m\u001b[39m\"\u001b[39;49m] \u001b[39m<\u001b[39;49m \u001b[39m800e-9\u001b[39;49m) \u001b[39m&\u001b[39;49m (df[\u001b[39m\"\u001b[39;49m\u001b[39mlambda\u001b[39;49m\u001b[39m\"\u001b[39;49m] \u001b[39m>\u001b[39;49m \u001b[39m300e-9\u001b[39;49m)][\u001b[39m\"\u001b[39;49m\u001b[39mlambda\u001b[39;49m\u001b[39m\"\u001b[39;49m],\n\u001b[0;32m     17\u001b[0m     df[(df[\u001b[39m\"\u001b[39;49m\u001b[39mlambda\u001b[39;49m\u001b[39m\"\u001b[39;49m] \u001b[39m<\u001b[39;49m \u001b[39m800e-9\u001b[39;49m) \u001b[39m&\u001b[39;49m (df[\u001b[39m\"\u001b[39;49m\u001b[39mlambda\u001b[39;49m\u001b[39m\"\u001b[39;49m] \u001b[39m>\u001b[39;49m \u001b[39m300e-9\u001b[39;49m)][\u001b[39m\"\u001b[39;49m\u001b[39mpolished\u001b[39;49m\u001b[39m\"\u001b[39;49m],\n\u001b[0;32m     18\u001b[0m     p0\u001b[39m=\u001b[39;49m\u001b[39m60e-9\u001b[39;49m,\n\u001b[0;32m     19\u001b[0m )\n\u001b[0;32m     20\u001b[0m \u001b[39mreturn\u001b[39;00m popt, pcov\n",
      "File \u001b[1;32mc:\\Users\\ginob\\anaconda3\\lib\\site-packages\\scipy\\optimize\\_minpack_py.py:820\u001b[0m, in \u001b[0;36mcurve_fit\u001b[1;34m(f, xdata, ydata, p0, sigma, absolute_sigma, check_finite, bounds, method, jac, full_output, **kwargs)\u001b[0m\n\u001b[0;32m    817\u001b[0m         xdata \u001b[39m=\u001b[39m np\u001b[39m.\u001b[39masarray(xdata, \u001b[39mfloat\u001b[39m)\n\u001b[0;32m    819\u001b[0m \u001b[39mif\u001b[39;00m ydata\u001b[39m.\u001b[39msize \u001b[39m==\u001b[39m \u001b[39m0\u001b[39m:\n\u001b[1;32m--> 820\u001b[0m     \u001b[39mraise\u001b[39;00m \u001b[39mValueError\u001b[39;00m(\u001b[39m\"\u001b[39m\u001b[39m`ydata` must not be empty!\u001b[39m\u001b[39m\"\u001b[39m)\n\u001b[0;32m    822\u001b[0m \u001b[39m# Determine type of sigma\u001b[39;00m\n\u001b[0;32m    823\u001b[0m \u001b[39mif\u001b[39;00m sigma \u001b[39mis\u001b[39;00m \u001b[39mnot\u001b[39;00m \u001b[39mNone\u001b[39;00m:\n",
      "\u001b[1;31mValueError\u001b[0m: `ydata` must not be empty!"
     ]
    }
   ],
   "source": [
    "np.set_printoptions(precision=2)\n",
    "\n",
    "dir = Path(\"./data/\")\n",
    "\n",
    "# leggo dati del johnny\n",
    "john = pd.read_csv(\"./data/book_data/Johnson.csv\")\n",
    "k_spl_john = CubicSpline(john[\"wl\"], john[\"k\"])\n",
    "n_spl_john = CubicSpline(john[\"wl\"], john[\"n\"])\n",
    "\n",
    "Trans = Transmittance(n = n_spl_john, k = k_spl_john)\n",
    "def optimizer(path):\n",
    "    df=pd.read_csv(path)\n",
    "    df.head()\n",
    "    popt, pcov = curve_fit(\n",
    "        Trans.beer_lambert,\n",
    "        df[(df[\"lambda\"] < 800e-9) & (df[\"lambda\"] > 300e-9)][\"lambda\"],\n",
    "        df[(df[\"lambda\"] < 800e-9) & (df[\"lambda\"] > 300e-9)][\"polished\"],\n",
    "        p0=60e-9,\n",
    "    )\n",
    "    return popt, pcov\n",
    "\n",
    "\n",
    "def iterazione(path):\n",
    "    data =[i for i in path.iterdir() if i.match(\"*spettrofotometro\")]\n",
    "    # print(data)\n",
    "    for i in data:\n",
    "        subfolder = [j for j in i.iterdir() if j.is_dir()]\n",
    "        for folder in subfolder:\n",
    "            if folder.match(\"ELAB\"):\n",
    "                for file in folder.iterdir():\n",
    "                    print(file)\n",
    "                    print(optimizer(file))    \n",
    "            else:\n",
    "                print(\"La cartella non è Elab... gestiamo logica dopo\")\n",
    "                print(folder)\n",
    "                iterazione_spettro(folder)\n",
    "\n",
    "def iterazione_spettro(path):\n",
    "    print(\"launching iterazione_spettro\")\n",
    "    print(path)\n",
    "    elab = [i for i in path.iterdir() if i.match(\"ELAB\")]\n",
    "    print(elab)\n",
    "    for i in elab:\n",
    "        for file in i.iterdir():\n",
    "            print(file, optimizer(file))\n",
    "\n",
    "iterazione(dir)\n",
    "\n",
    "\n",
    "#entry.is_dir()\n",
    "\n",
    "\n",
    "    #if \"spettrofotometro\" in folder.stem\n",
    "     #   p = folder.path\n",
    "\n",
    "            \n",
    "    "
   ]
  },
  {
   "cell_type": "code",
   "execution_count": null,
   "metadata": {},
   "outputs": [],
   "source": []
  }
 ],
 "metadata": {
  "kernelspec": {
   "display_name": "codeLab",
   "language": "python",
   "name": "python3"
  },
  "language_info": {
   "codemirror_mode": {
    "name": "ipython",
    "version": 3
   },
   "file_extension": ".py",
   "mimetype": "text/x-python",
   "name": "python",
   "nbconvert_exporter": "python",
   "pygments_lexer": "ipython3",
   "version": "3.10.9"
  },
  "orig_nbformat": 4
 },
 "nbformat": 4,
 "nbformat_minor": 2
}
