{
 "cells": [
  {
   "attachments": {},
   "cell_type": "markdown",
   "metadata": {},
   "source": [
    "# Grafici Trasmittanza Spettrofotometro\n"
   ]
  },
  {
   "cell_type": "code",
   "execution_count": 14,
   "metadata": {},
   "outputs": [],
   "source": [
    "import matplotlib.pyplot as plt\n",
    "from scipy.interpolate import CubicSpline\n",
    "import pandas as pd\n",
    "import numpy as np\n",
    "from Functions_Tries.transmittance import Transmittance\n",
    "from Functions_Tries.Spectrofotometer_Thickness import iterazione\n",
    "from pathlib import Path\n",
    "\n",
    "plt.style.use(\"seaborn-v0_8-darkgrid\")"
   ]
  },
  {
   "attachments": {},
   "cell_type": "markdown",
   "metadata": {},
   "source": [
    "# Il codice seguente serve al fit dello spessore dagli spettri ottenuti dallo spettrofotometro\n",
    "\n",
    "- Usiamo la libreria ```matplotlib.pyplot``` per graficare gli spettri\n",
    "- Usiamo la libreria ```numpy``` per avere la matematica corretta e dei contenitori efficenti.\n",
    "- Usiamo la libreria ```scipy.interpolate``` per avere le curve di Bezier per interpolare i dati ottenuti dal Johnson\n",
    "- Usiamo la libreria ```pandas``` per leggere i file che contengono gli spettri e per l'output\n",
    "- Stefano ha scritto il modulo ```Function_Tries.transmittance``` per avere le funzioni su cui fare il fit e per fare il primo test di fattibilità sui fit\n",
    "- Stefano e Francesco hanno scritto il modulo ```Function_Tries.Spectrofotometer_Thickness``` per fare i fit e automatizzare tutti i processi\n",
    "- Usiamo il modulo ```pathlib``` per gestire i Path dei vari file in maniera automatizzata\n",
    "\n",
    "## TODO\n",
    "\n",
    "- [ ] Rendere un filo più veloce spettrofotometro"
   ]
  },
  {
   "cell_type": "code",
   "execution_count": 15,
   "metadata": {},
   "outputs": [],
   "source": [
    "# Imposto la precisione per l'output dei numeri\n",
    "np.set_printoptions(precision=2)\n",
    "\n",
    "# Path entro cui fare le ricerche\n",
    "dir = Path(\"./data/\")\n",
    "\n",
    "# Nome colonne for pretty printing\n",
    "colonne = [\"NomeFile\", \"ValoreFit\", \"ErrFit\", \"χ_2_Rid\", \"GdL\"]\n",
    "\n",
    "# Liste vuote, servono per salvare i vari dati del fit\n",
    "data_Beer_Lambert = dict(\n",
    "    NomeFile = [],\n",
    "    ValoreFit = [],\n",
    "    ErrFit = [],\n",
    "    χ_2_Rid = [],\n",
    "    GdL = []\n",
    ")\n",
    "\n",
    "data_Transmittance_approx = dict(\n",
    "    NomeFile = [],\n",
    "    ValoreFit = [],\n",
    "    ErrFit = [],\n",
    "    χ_2_Rid = [],\n",
    "    GdL = []\n",
    ")\n",
    "\n",
    "data_Transmittance_approx_n_free = dict(\n",
    "    NomeFile = [],\n",
    "    ValoreFit = [],\n",
    "    ErrFit = [],\n",
    "    n_obt = [],\n",
    "    err_n = [],\n",
    "    χ_2_Rid = [],\n",
    "    GdL = []\n",
    ")\n",
    "\n",
    "\n",
    "data_Transmittance_exact = dict(\n",
    "    NomeFile = [],\n",
    "    ValoreFit = [],\n",
    "    ErrFit = [],\n",
    "    χ_2_Rid = [],\n",
    "    GdL = []\n",
    ")\n",
    "\n",
    "data_Transmittance_exact_n_free = dict(\n",
    "    NomeFile = [],\n",
    "    ValoreFit = [],\n",
    "    ErrFit = [],\n",
    "    n_obt = [],\n",
    "    err_n = [],\n",
    "    χ_2_Rid = [],\n",
    "    GdL = []\n",
    ")\n",
    "\n"
   ]
  },
  {
   "cell_type": "code",
   "execution_count": 16,
   "metadata": {},
   "outputs": [],
   "source": [
    "# leggo dati del johnny\n",
    "john = pd.read_csv(\"./data/book_data/Johnson.csv\")\n",
    "n_spl_john = CubicSpline(john[\"wl\"], john[\"n\"])\n",
    "k_spl_john = CubicSpline(john[\"wl\"], john[\"k\"])\n",
    "\n",
    " # Inizializziamo la classe che contiene le transmittance per i successivi fit\n",
    "Trans = Transmittance(\n",
    "    n=n_spl_john,\n",
    "    k=k_spl_john,\n",
    "    n_0=1.0,\n",
    "    n_1=1.51,\n",
    ")"
   ]
  },
  {
   "cell_type": "code",
   "execution_count": 17,
   "metadata": {},
   "outputs": [],
   "source": [
    "# Finalmente lanciamo la cazzo di funzione\n",
    "iterazione(\n",
    "    dir,\n",
    "    data_Beer_Lambert,\n",
    "    Trans.beer_lambert,\n",
    "    graph_title=\"Fit Beer Lambert\",\n",
    "    p0=60e-9,\n",
    "    graph_dir=\"./images/beer_lambert/\",\n",
    "    opt_bound = (0, 1e-6)\n",
    ")\n"
   ]
  },
  {
   "cell_type": "code",
   "execution_count": 18,
   "metadata": {},
   "outputs": [],
   "source": [
    "iterazione(\n",
    "    dir,\n",
    "    data_Transmittance_approx,\n",
    "    Trans.transmittance_approx,\n",
    "    graph_title=\"Fit Transmitance\",\n",
    "    p0=60e-9,\n",
    "    graph_dir=\"./images/transmittance_approx/\",\n",
    "    opt_bound=(0, 1e-6),\n",
    ")"
   ]
  },
  {
   "cell_type": "code",
   "execution_count": 19,
   "metadata": {},
   "outputs": [],
   "source": [
    "iterazione(\n",
    "    dir,\n",
    "    data_Transmittance_approx_n_free,\n",
    "    Trans.transmittance_approx_n_free,\n",
    "    graph_title=\"Fit Transmittance, $n_1$ free\",\n",
    "    p0=(1.52, 60e-9),\n",
    "    graph_dir=\"./images/transmittance_approx_n_free/\",\n",
    "    opt_bound = ([1, 0], [2, 1e-6])\n",
    ")\n"
   ]
  },
  {
   "cell_type": "code",
   "execution_count": 20,
   "metadata": {},
   "outputs": [],
   "source": [
    "\n",
    "iterazione(\n",
    "    dir,\n",
    "    data_Transmittance_exact,\n",
    "    Trans.transmittance_exact,\n",
    "    graph_title=\"Fit Transmitance\",\n",
    "    p0=60e-9,\n",
    "    graph_dir=\"./images/transmittance_exact/\",\n",
    "    opt_bound = (0, 1e-6)\n",
    ")\n"
   ]
  },
  {
   "cell_type": "code",
   "execution_count": 21,
   "metadata": {},
   "outputs": [],
   "source": [
    "\n",
    "iterazione(\n",
    "    dir,\n",
    "    data_Transmittance_exact_n_free,\n",
    "    Trans.transmittance_exact_n_free,\n",
    "    graph_title=\"Fit Transmittance, $n_1$ free\",\n",
    "    p0=(1.52, 60e-9),\n",
    "    graph_dir=\"./images/transmittance_exact_n_free/\",\n",
    "    opt_bound = ([1, 0], [2, 1e-6])\n",
    ")"
   ]
  },
  {
   "cell_type": "code",
   "execution_count": 22,
   "metadata": {},
   "outputs": [],
   "source": [
    "\n",
    "# SALVATAGGIO DATI BEER LAMBERT SU FILE\n",
    "res_df_beer_lambert = pd.DataFrame(data_Beer_Lambert)\n",
    "res_df_beer_lambert.to_csv(\n",
    "    \"Risultati_Beer_Lambert_spettrofotometro.csv\", index=False\n",
    ")\n",
    "res_df_beer_lambert = pd.DataFrame(data_Transmittance_approx)\n",
    "res_df_beer_lambert.to_csv(\n",
    "    \"Risultati_Transmittance_approx_spettrofotometro.csv\", index=False\n",
    ")\n",
    "res_df_beer_lambert = pd.DataFrame(data_Transmittance_approx_n_free)\n",
    "res_df_beer_lambert.to_csv(\n",
    "    \"Risultati_Transmittance_approx_n_free_spettrofotometro.csv\", index=False\n",
    ")\n",
    "res_df_beer_lambert = pd.DataFrame(data_Transmittance_exact)\n",
    "res_df_beer_lambert.to_csv(\n",
    "    \"Risultati_Transmittance_exact_spettrofotometro.csv\", index=False\n",
    ")\n",
    "res_df_beer_lambert = pd.DataFrame(data_Transmittance_exact_n_free)\n",
    "res_df_beer_lambert.to_csv(\n",
    "    \"Risultati_Transmittance_exact_n_free_spettrofotometro.csv\", index=False\n",
    ")"
   ]
  },
  {
   "attachments": {},
   "cell_type": "markdown",
   "metadata": {},
   "source": [
    "# Immagini dello spettrofotometro, 26 Maggio"
   ]
  },
  {
   "cell_type": "code",
   "execution_count": 23,
   "metadata": {},
   "outputs": [],
   "source": [
    "dfs = []\n",
    "\n",
    "for file in Path(\"data/26-05_spettrofotometro/ELAB/\").iterdir():\n",
    "    if file.match(\"Oro*\"):\n",
    "        dfs.append([pd.read_csv(file), file])"
   ]
  },
  {
   "cell_type": "code",
   "execution_count": 24,
   "metadata": {},
   "outputs": [
    {
     "data": {
      "text/plain": [
       "[[            lambda  transmittance  polished  trasm_error\n",
       "  0     9.000000e-07         0.7580  0.268157     0.004243\n",
       "  1     8.995000e-07         0.7512 -1.843888     0.004243\n",
       "  2     8.990000e-07         0.6165 -2.087001     0.004243\n",
       "  3     8.985000e-07         0.6457  0.277816     0.004243\n",
       "  4     8.980000e-07         0.6642  0.152053     0.004243\n",
       "  ...            ...            ...       ...          ...\n",
       "  1096  3.520000e-07         0.9742  0.833148     0.004243\n",
       "  1097  3.515000e-07         0.9709  0.827918     0.004243\n",
       "  1098  3.510000e-07         0.9770  0.823777     0.004243\n",
       "  1099  3.505000e-07         0.9722  0.834148     0.004243\n",
       "  1100  3.500000e-07         0.9814  0.848228     0.004243\n",
       "  \n",
       "  [1101 rows x 4 columns],\n",
       "  PosixPath('data/26-05_spettrofotometro/ELAB/Oro7_Aria_1.csv')],\n",
       " [            lambda  transmittance  polished  trasm_error\n",
       "  0     9.000000e-07         0.2537  0.089751     0.004243\n",
       "  1     8.995000e-07         0.2603 -0.638930     0.004243\n",
       "  2     8.990000e-07         0.2139 -0.724103     0.004243\n",
       "  3     8.985000e-07         0.2270  0.097668     0.004243\n",
       "  4     8.980000e-07         0.2037  0.046632     0.004243\n",
       "  ...            ...            ...       ...          ...\n",
       "  1096  3.520000e-07         0.6134  0.524587     0.004243\n",
       "  1097  3.515000e-07         0.6121  0.521958     0.004243\n",
       "  1098  3.510000e-07         0.6147  0.518297     0.004243\n",
       "  1099  3.505000e-07         0.6108  0.524067     0.004243\n",
       "  1100  3.500000e-07         0.6132  0.529991     0.004243\n",
       "  \n",
       "  [1101 rows x 4 columns],\n",
       "  PosixPath('data/26-05_spettrofotometro/ELAB/Oro3_Aria_1.csv')],\n",
       " [            lambda  transmittance  polished  trasm_error\n",
       "  0     9.000000e-07        -0.0762 -0.026957     0.004243\n",
       "  1     8.995000e-07        -0.0127  0.031173     0.004243\n",
       "  2     8.990000e-07        -0.0947  0.320582     0.004243\n",
       "  3     8.985000e-07        -0.8152 -0.350744     0.004243\n",
       "  4     8.980000e-07         0.4386  0.100407     0.004243\n",
       "  ...            ...            ...       ...          ...\n",
       "  1096  3.520000e-07         0.7726  0.660737     0.004243\n",
       "  1097  3.515000e-07         0.7743  0.660271     0.004243\n",
       "  1098  3.510000e-07         0.7746  0.653120     0.004243\n",
       "  1099  3.505000e-07         0.7815  0.670528     0.004243\n",
       "  1100  3.500000e-07         0.7765  0.671132     0.004243\n",
       "  \n",
       "  [1101 rows x 4 columns],\n",
       "  PosixPath('data/26-05_spettrofotometro/ELAB/Oro6_Aria_1.csv')],\n",
       " [            lambda  transmittance  polished  trasm_error\n",
       "  0     9.000000e-07         0.4619  0.163406     0.004243\n",
       "  1     8.995000e-07         0.4575 -1.122975     0.004243\n",
       "  2     8.990000e-07         0.4376 -1.481381     0.004243\n",
       "  3     8.985000e-07         0.4520  0.194476     0.004243\n",
       "  4     8.980000e-07         0.4644  0.106314     0.004243\n",
       "  ...            ...            ...       ...          ...\n",
       "  1096  3.520000e-07         0.8899  0.761054     0.004243\n",
       "  1097  3.515000e-07         0.8925  0.761064     0.004243\n",
       "  1098  3.510000e-07         0.8907  0.751012     0.004243\n",
       "  1099  3.505000e-07         0.8928  0.766023     0.004243\n",
       "  1100  3.500000e-07         0.8943  0.772947     0.004243\n",
       "  \n",
       "  [1101 rows x 4 columns],\n",
       "  PosixPath('data/26-05_spettrofotometro/ELAB/Oro2_Aria_1.csv')],\n",
       " [            lambda  transmittance  polished  trasm_error\n",
       "  0     9.000000e-07         0.1987  0.070294     0.004243\n",
       "  1     8.995000e-07         0.1900 -0.466372     0.004243\n",
       "  2     8.990000e-07         0.2127 -0.720041     0.004243\n",
       "  3     8.985000e-07         0.1937  0.083341     0.004243\n",
       "  4     8.980000e-07         0.1863  0.042649     0.004243\n",
       "  ...            ...            ...       ...          ...\n",
       "  1096  3.520000e-07         0.5368  0.459078     0.004243\n",
       "  1097  3.515000e-07         0.5391  0.459708     0.004243\n",
       "  1098  3.510000e-07         0.5379  0.453541     0.004243\n",
       "  1099  3.505000e-07         0.5391  0.462548     0.004243\n",
       "  1100  3.500000e-07         0.5350  0.462403     0.004243\n",
       "  \n",
       "  [1101 rows x 4 columns],\n",
       "  PosixPath('data/26-05_spettrofotometro/ELAB/Oro5_Aria_1.csv')],\n",
       " [            lambda  transmittance  polished  trasm_error\n",
       "  0     9.000000e-07         0.2056  0.072735     0.004243\n",
       "  1     8.995000e-07         0.1972 -0.484045     0.004243\n",
       "  2     8.990000e-07         0.2066 -0.699391     0.004243\n",
       "  3     8.985000e-07         0.1831  0.078780     0.004243\n",
       "  4     8.980000e-07         0.1774  0.040612     0.004243\n",
       "  ...            ...            ...       ...          ...\n",
       "  1096  3.520000e-07         0.4416  0.377662     0.004243\n",
       "  1097  3.515000e-07         0.4422  0.377079     0.004243\n",
       "  1098  3.510000e-07         0.4439  0.374283     0.004243\n",
       "  1099  3.505000e-07         0.4420  0.379236     0.004243\n",
       "  1100  3.500000e-07         0.4413  0.381417     0.004243\n",
       "  \n",
       "  [1101 rows x 4 columns],\n",
       "  PosixPath('data/26-05_spettrofotometro/ELAB/Oro4_Aria_1.csv')],\n",
       " [            lambda  transmittance  polished  trasm_error\n",
       "  0     9.000000e-07         0.8200  0.290091     0.004243\n",
       "  1     8.995000e-07         0.8218 -2.017182     0.004243\n",
       "  2     8.990000e-07         0.8021 -2.715301     0.004243\n",
       "  3     8.985000e-07         0.8229  0.354057     0.004243\n",
       "  4     8.980000e-07         0.8267  0.189254     0.004243\n",
       "  ...            ...            ...       ...          ...\n",
       "  1096  3.520000e-07         1.0116  0.865133     0.004243\n",
       "  1097  3.515000e-07         1.0117  0.862710     0.004243\n",
       "  1098  3.510000e-07         1.0158  0.856492     0.004243\n",
       "  1099  3.505000e-07         1.0142  0.870184     0.004243\n",
       "  1100  3.500000e-07         1.0190  0.880726     0.004243\n",
       "  \n",
       "  [1101 rows x 4 columns],\n",
       "  PosixPath('data/26-05_spettrofotometro/ELAB/Oro7b_Aria_1.csv')]]"
      ]
     },
     "execution_count": 24,
     "metadata": {},
     "output_type": "execute_result"
    }
   ],
   "source": [
    "dfs"
   ]
  },
  {
   "cell_type": "code",
   "execution_count": 25,
   "metadata": {},
   "outputs": [
    {
     "data": {
      "text/plain": [
       "<matplotlib.legend.Legend at 0x7febaf0c4fd0>"
      ]
     },
     "execution_count": 25,
     "metadata": {},
     "output_type": "execute_result"
    }
   ],
   "source": [
    "fig, ax = plt.subplots(layout=\"constrained\")\n",
    "for df in dfs:\n",
    "    name = df[1].stem\n",
    "    data = df[0]\n",
    "    data = data[data[\"lambda\"]<800e-9]\n",
    "    ax.plot( data[\"lambda\"]*1e9, data[\"polished\"],\".--\", label=str(name))\n",
    "\n",
    "ax.set_xlabel(\"$\\\\lambda$ [m]\")\n",
    "ax.set_ylabel(\"Transmittance\")\n",
    "fig.suptitle(\"Transmittance with various thicknesses\")\n",
    "fig.legend(loc=\"outside right\", frameon=True)\n"
   ]
  },
  {
   "cell_type": "code",
   "execution_count": 26,
   "metadata": {},
   "outputs": [
    {
     "data": {
      "text/plain": [
       "<matplotlib.legend.Legend at 0x7febb59fd180>"
      ]
     },
     "execution_count": 26,
     "metadata": {},
     "output_type": "execute_result"
    }
   ],
   "source": [
    "import matplotlib.pyplot as plt\n",
    "from pathlib import Path\n",
    "import pandas as pd\n",
    "\n",
    "plt.style.use(\"seaborn-v0_8-darkgrid\")\n",
    "\n",
    "bulk = []\n",
    "\n",
    "for file in Path(\"data/12-05_spettrofotometro/ELAB/\").iterdir():\n",
    "    if file.match(\"AU*\"):\n",
    "        bulk.append([pd.read_csv(file), file])\n",
    "\n",
    "fig, ax = plt.subplots(layout=\"constrained\")\n",
    "\n",
    "for df in bulk:\n",
    "    name = df[1].stem\n",
    "    data = df[0]\n",
    "    data = data[data[\"lambda\"]<800e-9]\n",
    "    ax.plot( data[\"lambda\"]*1e9, data[\"polished\"],\".--\", label=str(name))\n",
    "\n",
    "ax.set_xlabel(\"$\\\\lambda$ [m]\")\n",
    "ax.set_ylabel(\"Transmittance\")\n",
    "fig.suptitle(\"Transmittance with various thicknesses, Bulk\")\n",
    "fig.legend(loc=\"outside right\", frameon=True)"
   ]
  }
 ],
 "metadata": {
  "kernelspec": {
   "display_name": "codeLab",
   "language": "python",
   "name": "python3"
  },
  "language_info": {
   "codemirror_mode": {
    "name": "ipython",
    "version": 3
   },
   "file_extension": ".py",
   "mimetype": "text/x-python",
   "name": "python",
   "nbconvert_exporter": "python",
   "pygments_lexer": "ipython3",
   "version": "3.10.11"
  },
  "orig_nbformat": 4
 },
 "nbformat": 4,
 "nbformat_minor": 2
}
