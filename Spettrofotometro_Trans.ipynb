{
 "cells": [
  {
   "attachments": {},
   "cell_type": "markdown",
   "metadata": {},
   "source": [
    "# Grafici Trasmittanza Spettrofotometro\n"
   ]
  },
  {
   "cell_type": "code",
   "execution_count": 4,
   "metadata": {},
   "outputs": [
    {
     "name": "stderr",
     "output_type": "stream",
     "text": [
      "C:\\Users\\ginob\\AppData\\Local\\Temp\\ipykernel_2368\\2239439813.py:10: MatplotlibDeprecationWarning: The seaborn styles shipped by Matplotlib are deprecated since 3.6, as they no longer correspond to the styles shipped by seaborn. However, they will remain available as 'seaborn-v0_8-<style>'. Alternatively, directly use the seaborn API instead.\n",
      "  plt.style.use(\"seaborn\")\n"
     ]
    }
   ],
   "source": [
    "import Functions_Tries.plotter as plotter\n",
    "import Functions_Tries.cleaner as cleaner\n",
    "import matplotlib.pyplot as plt\n",
    "from scipy.interpolate import CubicSpline\n",
    "import pandas as pd\n",
    "import numpy as np\n",
    "from pathlib import Path\n",
    "\n",
    "\n",
    "plt.style.use(\"seaborn\")"
   ]
  },
  {
   "cell_type": "code",
   "execution_count": 20,
   "metadata": {},
   "outputs": [
    {
     "name": "stdout",
     "output_type": "stream",
     "text": [
      "[WindowsPath('data/12-05_spettrofotometro'), WindowsPath('data/2-05_spettrofotometro'), WindowsPath('data/21-04_spettrofotometro'), WindowsPath('data/5-05_spettrofotometro'), WindowsPath('data/9_05_spettrofotometro')]\n",
      "data\\12-05_spettrofotometro\\ELAB\\Aria-Aria_Trasm_1.csv\n",
      "data\\12-05_spettrofotometro\\ELAB\\AU-Vetro_1-cm_IV_1.csv\n",
      "data\\12-05_spettrofotometro\\ELAB\\AU-Vetro_2-cm_IV_1.csv\n",
      "data\\12-05_spettrofotometro\\ELAB\\AU-Vetro_4-cm_IV_1.csv\n",
      "data\\12-05_spettrofotometro\\ELAB\\AU-Vetro_5-cm_IV_1.csv\n",
      "data\\12-05_spettrofotometro\\ELAB\\AU-Vetro_6-cm_IV_1.csv\n",
      "data\\12-05_spettrofotometro\\ELAB\\AU-Vetro_7-cm_IV_1.csv\n",
      "data\\2-05_spettrofotometro\\ELAB\\Aria-Aria-Trasm_1.csv\n",
      "data\\2-05_spettrofotometro\\ELAB\\Aria-Aria_1- Assorb.csv\n",
      "data\\2-05_spettrofotometro\\ELAB\\Oro-Oro 1.csv\n",
      "data\\2-05_spettrofotometro\\ELAB\\Oror-oro 2_1.csv\n",
      "data\\2-05_spettrofotometro\\ELAB\\Oror-oro 3_1.csv\n",
      "data\\2-05_spettrofotometro\\ELAB\\Oror-oro 4_1.csv\n",
      "data\\2-05_spettrofotometro\\ELAB\\Oror-oro 5_1.csv\n",
      "data\\2-05_spettrofotometro\\ELAB\\Oror-oro 6_1.csv\n",
      "data\\21-04_spettrofotometro\\ELAB\\Aria-Aria-900-350.csv\n",
      "data\\21-04_spettrofotometro\\ELAB\\AU-PDMS-Vetro-PDMS-Vetro-900-350_1.csv\n",
      "data\\21-04_spettrofotometro\\ELAB\\AU-Vetro-Vetro-900-350-5nm_1.csv\n",
      "data\\21-04_spettrofotometro\\ELAB\\AU-Vetro-Vetro-900-350-5nm_2.csv\n",
      "data\\21-04_spettrofotometro\\ELAB\\AU_vetro-Vetro-900-350.csv\n",
      "La cartella non è Elab... gestiamo logica dopo\n",
      "data\\5-05_spettrofotometro\\vetrino1_spettrofotometro\n",
      "launching iterazione_spettro\n",
      "data\\5-05_spettrofotometro\\vetrino1_spettrofotometro\n",
      "[WindowsPath('data/5-05_spettrofotometro/vetrino1_spettrofotometro/ELAB')]\n",
      "data\\5-05_spettrofotometro\\vetrino1_spettrofotometro\\ELAB\\air_air_trasm_1.csv\n",
      "data\\5-05_spettrofotometro\\vetrino1_spettrofotometro\\ELAB\\vetroAU-vetro_1_1.csv\n",
      "data\\5-05_spettrofotometro\\vetrino1_spettrofotometro\\ELAB\\vetroAU-vetro_2_1.csv\n",
      "data\\5-05_spettrofotometro\\vetrino1_spettrofotometro\\ELAB\\vetroAU-vetro_3_1.csv\n",
      "data\\5-05_spettrofotometro\\vetrino1_spettrofotometro\\ELAB\\vetroAU-vetro_4_1.csv\n",
      "data\\5-05_spettrofotometro\\vetrino1_spettrofotometro\\ELAB\\vetroAU-vetro_5_1.csv\n",
      "La cartella non è Elab... gestiamo logica dopo\n",
      "data\\5-05_spettrofotometro\\vetrino2_spettrofotometro\n",
      "launching iterazione_spettro\n",
      "data\\5-05_spettrofotometro\\vetrino2_spettrofotometro\n",
      "[WindowsPath('data/5-05_spettrofotometro/vetrino2_spettrofotometro/ELAB')]\n",
      "data\\5-05_spettrofotometro\\vetrino2_spettrofotometro\\ELAB\\air_air_trasm_2.csv\n",
      "data\\5-05_spettrofotometro\\vetrino2_spettrofotometro\\ELAB\\vetroAU-vetro_1_2.csv\n",
      "data\\5-05_spettrofotometro\\vetrino2_spettrofotometro\\ELAB\\vetroAU-vetro_2_2.csv\n",
      "data\\5-05_spettrofotometro\\vetrino2_spettrofotometro\\ELAB\\vetroAU-vetro_3_2.csv\n",
      "data\\5-05_spettrofotometro\\vetrino2_spettrofotometro\\ELAB\\vetroAU-vetro_4_2.csv\n",
      "data\\5-05_spettrofotometro\\vetrino2_spettrofotometro\\ELAB\\vetroAU-vetro_5_2.csv\n",
      "La cartella non è Elab... gestiamo logica dopo\n",
      "data\\5-05_spettrofotometro\\vetrino3_spettrofotometro\n",
      "launching iterazione_spettro\n",
      "data\\5-05_spettrofotometro\\vetrino3_spettrofotometro\n",
      "[WindowsPath('data/5-05_spettrofotometro/vetrino3_spettrofotometro/ELAB')]\n",
      "data\\5-05_spettrofotometro\\vetrino3_spettrofotometro\\ELAB\\vetroAU-vetro_1_1.csv\n",
      "data\\5-05_spettrofotometro\\vetrino3_spettrofotometro\\ELAB\\vetroAU-vetro_2_1.csv\n",
      "data\\5-05_spettrofotometro\\vetrino3_spettrofotometro\\ELAB\\vetroAU-vetro_3_1.csv\n",
      "data\\9_05_spettrofotometro\\ELAB\\air_ar_trasm_1_1.csv\n",
      "data\\9_05_spettrofotometro\\ELAB\\gold_glass_trasm_3_cm_1.csv\n",
      "data\\9_05_spettrofotometro\\ELAB\\gold_glass_trasm_4_cm_1.csv\n",
      "data\\9_05_spettrofotometro\\ELAB\\gold_glass_trasm_5_cm_1.csv\n",
      "data\\9_05_spettrofotometro\\ELAB\\gold_glass_trasm_6_cm_1.csv\n"
     ]
    }
   ],
   "source": [
    "np.set_printoptions(precision=2)\n",
    "\n",
    "dir = Path(\"./data/\")\n",
    "\n",
    "def iterazione(path):\n",
    "    data =[i for i in path.iterdir() if i.match(\"*spettrofotometro\")]\n",
    "    print(data)\n",
    "    for i in data:\n",
    "        subfolder = [j for j in i.iterdir() if j.is_dir()]\n",
    "        for folder in subfolder:\n",
    "            if folder.match(\"ELAB\"):\n",
    "                for file in folder.iterdir():\n",
    "                    print(file)\n",
    "                    \n",
    "            else:\n",
    "                print(\"La cartella non è Elab... gestiamo logica dopo\")\n",
    "                print(folder)\n",
    "                iterazione_spettro(folder)\n",
    "\n",
    "def iterazione_spettro(path):\n",
    "    print(\"launching iterazione_spettro\")\n",
    "    print(path)\n",
    "    elab = [i for i in path.iterdir() if i.match(\"ELAB\")]\n",
    "    print(elab)\n",
    "    for i in elab:\n",
    "        for file in i.iterdir():\n",
    "            print(file)\n",
    "\n",
    "iterazione(dir)\n",
    "#entry.is_dir()\n",
    "\n",
    "\n",
    "    #if \"spettrofotometro\" in folder.stem\n",
    "     #   p = folder.path\n",
    "\n",
    "            \n",
    "    "
   ]
  },
  {
   "cell_type": "code",
   "execution_count": null,
   "metadata": {},
   "outputs": [],
   "source": []
  }
 ],
 "metadata": {
  "kernelspec": {
   "display_name": "codeLab",
   "language": "python",
   "name": "python3"
  },
  "language_info": {
   "codemirror_mode": {
    "name": "ipython",
    "version": 3
   },
   "file_extension": ".py",
   "mimetype": "text/x-python",
   "name": "python",
   "nbconvert_exporter": "python",
   "pygments_lexer": "ipython3",
   "version": "3.10.9"
  },
  "orig_nbformat": 4
 },
 "nbformat": 4,
 "nbformat_minor": 2
}
