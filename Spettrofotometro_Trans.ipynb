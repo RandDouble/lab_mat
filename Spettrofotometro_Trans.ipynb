{
 "cells": [
  {
   "attachments": {},
   "cell_type": "markdown",
   "metadata": {},
   "source": [
    "# Grafici Trasmittanza Spettrofotometro\n"
   ]
  },
  {
   "cell_type": "code",
   "execution_count": 6,
   "metadata": {},
   "outputs": [
    {
     "name": "stderr",
     "output_type": "stream",
     "text": [
      "/tmp/ipykernel_2331/684767676.py:12: MatplotlibDeprecationWarning: The seaborn styles shipped by Matplotlib are deprecated since 3.6, as they no longer correspond to the styles shipped by seaborn. However, they will remain available as 'seaborn-v0_8-<style>'. Alternatively, directly use the seaborn API instead.\n",
      "  plt.style.use(\"seaborn\")\n"
     ]
    }
   ],
   "source": [
    "import Functions_Tries.plotter as plotter\n",
    "import matplotlib.pyplot as plt\n",
    "from scipy.interpolate import CubicSpline\n",
    "from scipy.optimize import curve_fit\n",
    "import pandas as pd\n",
    "import numpy as np\n",
    "from Functions_Tries.transmittance import Transmittance\n",
    "from pathlib import Path\n",
    "\n",
    "\n",
    "plt.style.use(\"seaborn\")"
   ]
  },
  {
   "attachments": {},
   "cell_type": "markdown",
   "metadata": {},
   "source": [
    "# Il codice seguente serve al fit dello spessore dagli spettri ottenuti dallo spettrofotometro\n",
    "\n",
    "- Usiamo la libreria ```numpy``` per avere la matematica corretta e dei contenitori efficenti.\n",
    "- Usiamo la libreria ```scipy.interpolate``` per avere le curve di Bezier per interpolare i dati ottenuti dal Johnson\n",
    "- Usiamo la libreria ```scipy.optimize``` per fittare gli spettri e ottenere il valore di spessore e l'errore\n",
    "- Usiamo la libreria ```pandas``` per leggere i file che contengono gli spettri e per l'output\n",
    "- Stefano ha scritto il modulo ```transmittance``` per avere le funzioni su cui fare il fit e per fare il primo test di fattibilità sui fit\n",
    "- Usiamo il modulo ```pathlib``` per gestire i Path dei vari file in maniera automatizzata\n",
    "- Usiamo la libreria ```matplotlib``` per graficare gli spettri\n",
    "\n",
    "## TODO\n",
    "\n",
    "- [ ] Aggiungere il salvataggio di tutti i risultati su un file\n",
    "- [ ] Fare i grafici automatici, salvandoli in una cartella separata Graph"
   ]
  },
  {
   "cell_type": "code",
   "execution_count": 7,
   "metadata": {},
   "outputs": [
    {
     "name": "stderr",
     "output_type": "stream",
     "text": [
      "/home/pilo/miniconda3/envs/codeLab310/lib/python3.10/site-packages/scipy/optimize/_minpack_py.py:906: OptimizeWarning: Covariance of the parameters could not be estimated\n",
      "  warnings.warn('Covariance of the parameters could not be estimated',\n"
     ]
    },
    {
     "name": "stdout",
     "output_type": "stream",
     "text": [
      "data/21-04_spettrofotometro/ELAB/AU-Vetro-Vetro-900-350-5nm_1.csv\n",
      "(array([1.3e-08]), array([[8.92e-21]]))\n",
      "data/21-04_spettrofotometro/ELAB/AU-PDMS-Vetro-PDMS-Vetro-900-350_1.csv\n",
      "(array([1.67e-08]), array([[1.61e-20]]))\n",
      "data/21-04_spettrofotometro/ELAB/Aria-Aria-900-350.csv\n",
      "(array([-9.55e-19]), array([[inf]]))\n",
      "data/21-04_spettrofotometro/ELAB/AU_vetro-Vetro-900-350.csv\n",
      "(array([7.91e-08]), array([[1.06e-20]]))\n",
      "data/21-04_spettrofotometro/ELAB/AU-Vetro-Vetro-900-350-5nm_2.csv\n",
      "(array([1.42e-09]), array([[2.13e-21]]))\n",
      "data/2-05_spettrofotometro/ELAB/Oro-Oro 1.csv\n",
      "(array([3.84e-08]), array([[1.23e-20]]))\n",
      "data/2-05_spettrofotometro/ELAB/Oror-oro 4_1.csv\n",
      "(array([5.84e-08]), array([[1.44e-20]]))\n",
      "data/2-05_spettrofotometro/ELAB/Oror-oro 3_1.csv\n",
      "(array([5.14e-08]), array([[1.33e-20]]))\n",
      "data/2-05_spettrofotometro/ELAB/Oror-oro 2_1.csv\n",
      "(array([4.29e-08]), array([[1.33e-20]]))\n",
      "data/2-05_spettrofotometro/ELAB/Aria-Aria_1- Assorb.csv\n",
      "(array([4.89e-08]), array([[3.13e-19]]))\n",
      "data/2-05_spettrofotometro/ELAB/Oror-oro 6_1.csv\n",
      "(array([7.62e-08]), array([[1.96e-20]]))\n",
      "data/2-05_spettrofotometro/ELAB/Aria-Aria-Trasm_1.csv\n",
      "(array([-9.55e-19]), array([[inf]]))\n",
      "data/2-05_spettrofotometro/ELAB/Oror-oro 5_1.csv\n",
      "(array([7.4e-08]), array([[1.4e-20]]))\n",
      "La cartella non è Elab... gestiamo logica dopo\n",
      "data/5-05_spettrofotometro/vetrino3_spettrofotometro\n",
      "launching iterazione_spettro\n",
      "data/5-05_spettrofotometro/vetrino3_spettrofotometro\n",
      "[PosixPath('data/5-05_spettrofotometro/vetrino3_spettrofotometro/ELAB')]\n",
      "data/5-05_spettrofotometro/vetrino3_spettrofotometro/ELAB/vetroAU-vetro_2_1.csv\n",
      "(array([2.51e-08]), array([[5.81e-20]]))\n",
      "data/5-05_spettrofotometro/vetrino3_spettrofotometro/ELAB/vetroAU-vetro_3_1.csv\n",
      "(array([6.32e-08]), array([[2.87e-21]]))\n",
      "data/5-05_spettrofotometro/vetrino3_spettrofotometro/ELAB/vetroAU-vetro_1_1.csv\n",
      "(array([1.35e-08]), array([[5.01e-20]]))\n",
      "La cartella non è Elab... gestiamo logica dopo\n",
      "data/5-05_spettrofotometro/vetrino2_spettrofotometro\n",
      "launching iterazione_spettro\n",
      "data/5-05_spettrofotometro/vetrino2_spettrofotometro\n",
      "[PosixPath('data/5-05_spettrofotometro/vetrino2_spettrofotometro/ELAB')]\n",
      "data/5-05_spettrofotometro/vetrino2_spettrofotometro/ELAB/vetroAU-vetro_3_2.csv\n",
      "(array([5.46e-08]), array([[1.49e-20]]))\n",
      "data/5-05_spettrofotometro/vetrino2_spettrofotometro/ELAB/vetroAU-vetro_2_2.csv\n"
     ]
    },
    {
     "name": "stderr",
     "output_type": "stream",
     "text": [
      "/home/pilo/miniconda3/envs/codeLab310/lib/python3.10/site-packages/scipy/optimize/_minpack_py.py:906: OptimizeWarning: Covariance of the parameters could not be estimated\n",
      "  warnings.warn('Covariance of the parameters could not be estimated',\n",
      "/home/pilo/miniconda3/envs/codeLab310/lib/python3.10/site-packages/scipy/optimize/_minpack_py.py:906: OptimizeWarning: Covariance of the parameters could not be estimated\n",
      "  warnings.warn('Covariance of the parameters could not be estimated',\n",
      "/home/pilo/miniconda3/envs/codeLab310/lib/python3.10/site-packages/scipy/optimize/_minpack_py.py:906: OptimizeWarning: Covariance of the parameters could not be estimated\n",
      "  warnings.warn('Covariance of the parameters could not be estimated',\n"
     ]
    },
    {
     "name": "stdout",
     "output_type": "stream",
     "text": [
      "(array([6.65e-08]), array([[1.06e-20]]))\n",
      "data/5-05_spettrofotometro/vetrino2_spettrofotometro/ELAB/vetroAU-vetro_1_2.csv\n",
      "(array([1.64e-08]), array([[3.11e-17]]))\n",
      "data/5-05_spettrofotometro/vetrino2_spettrofotometro/ELAB/air_air_trasm_2.csv\n",
      "(array([-9.55e-19]), array([[inf]]))\n",
      "data/5-05_spettrofotometro/vetrino2_spettrofotometro/ELAB/vetroAU-vetro_4_2.csv\n",
      "(array([4.47e-08]), array([[1.38e-20]]))\n",
      "data/5-05_spettrofotometro/vetrino2_spettrofotometro/ELAB/vetroAU-vetro_5_2.csv\n",
      "(array([3.34e-08]), array([[1.34e-20]]))\n",
      "La cartella non è Elab... gestiamo logica dopo\n",
      "data/5-05_spettrofotometro/vetrino1_spettrofotometro\n",
      "launching iterazione_spettro\n",
      "data/5-05_spettrofotometro/vetrino1_spettrofotometro\n",
      "[PosixPath('data/5-05_spettrofotometro/vetrino1_spettrofotometro/ELAB')]\n",
      "data/5-05_spettrofotometro/vetrino1_spettrofotometro/ELAB/vetroAU-vetro_5_1.csv\n",
      "(array([3.34e-08]), array([[1.34e-20]]))\n",
      "data/5-05_spettrofotometro/vetrino1_spettrofotometro/ELAB/vetroAU-vetro_2_1.csv\n",
      "(array([6.65e-08]), array([[1.06e-20]]))\n",
      "data/5-05_spettrofotometro/vetrino1_spettrofotometro/ELAB/vetroAU-vetro_3_1.csv\n",
      "(array([5.46e-08]), array([[1.49e-20]]))\n",
      "data/5-05_spettrofotometro/vetrino1_spettrofotometro/ELAB/air_air_trasm_1.csv\n",
      "(array([-9.55e-19]), array([[inf]]))\n",
      "data/5-05_spettrofotometro/vetrino1_spettrofotometro/ELAB/vetroAU-vetro_1_1.csv\n",
      "(array([1.64e-08]), array([[3.11e-17]]))\n",
      "data/5-05_spettrofotometro/vetrino1_spettrofotometro/ELAB/vetroAU-vetro_4_1.csv\n",
      "(array([4.47e-08]), array([[1.38e-20]]))\n",
      "data/9_05_spettrofotometro/ELAB/air_ar_trasm_1_1.csv\n",
      "(array([-9.55e-19]), array([[inf]]))\n",
      "data/9_05_spettrofotometro/ELAB/gold_glass_trasm_6_cm_1.csv\n",
      "(array([3.57e-08]), array([[1.3e-20]]))\n",
      "data/9_05_spettrofotometro/ELAB/gold_glass_trasm_5_cm_1.csv\n",
      "(array([4.34e-08]), array([[1.31e-20]]))\n",
      "data/9_05_spettrofotometro/ELAB/gold_glass_trasm_3_cm_1.csv\n",
      "(array([6.71e-08]), array([[1.29e-20]]))\n",
      "data/9_05_spettrofotometro/ELAB/gold_glass_trasm_4_cm_1.csv\n",
      "(array([5.e-08]), array([[1.36e-20]]))\n",
      "data/12-05_spettrofotometro/ELAB/AU-Vetro_4-cm_IV_1.csv\n",
      "(array([2.94e-08]), array([[1.32e-21]]))\n",
      "data/12-05_spettrofotometro/ELAB/AU-Vetro_1-cm_IV_1.csv\n",
      "(array([7.68e-08]), array([[1.61e-20]]))\n",
      "data/12-05_spettrofotometro/ELAB/AU-Vetro_6-cm_IV_1.csv\n",
      "(array([4.55e-08]), array([[1.44e-20]]))\n",
      "data/12-05_spettrofotometro/ELAB/AU-Vetro_7-cm_IV_1.csv\n",
      "(array([3.94e-08]), array([[1.09e-20]]))\n",
      "data/12-05_spettrofotometro/ELAB/AU-Vetro_2-cm_IV_1.csv\n",
      "(array([6.63e-08]), array([[1.66e-20]]))\n",
      "data/12-05_spettrofotometro/ELAB/Aria-Aria_Trasm_1.csv\n",
      "(array([-9.55e-19]), array([[inf]]))\n",
      "data/12-05_spettrofotometro/ELAB/AU-Vetro_5-cm_IV_1.csv\n",
      "(array([4.46e-08]), array([[1.29e-20]]))\n"
     ]
    },
    {
     "name": "stderr",
     "output_type": "stream",
     "text": [
      "/home/pilo/miniconda3/envs/codeLab310/lib/python3.10/site-packages/scipy/optimize/_minpack_py.py:906: OptimizeWarning: Covariance of the parameters could not be estimated\n",
      "  warnings.warn('Covariance of the parameters could not be estimated',\n",
      "/home/pilo/miniconda3/envs/codeLab310/lib/python3.10/site-packages/scipy/optimize/_minpack_py.py:906: OptimizeWarning: Covariance of the parameters could not be estimated\n",
      "  warnings.warn('Covariance of the parameters could not be estimated',\n"
     ]
    }
   ],
   "source": [
    "np.set_printoptions(precision=2)\n",
    "\n",
    "dir = Path(\"./data/\")\n",
    "\n",
    "# leggo dati del johnny\n",
    "john = pd.read_csv(\"./data/book_data/Johnson.csv\")\n",
    "k_spl_john = CubicSpline(john[\"wl\"], john[\"k\"])\n",
    "n_spl_john = CubicSpline(john[\"wl\"], john[\"n\"])\n",
    "\n",
    "# Inizializziamo la classe che contiene le transmittance per i successivi fit\n",
    "Trans = Transmittance(n = n_spl_john, k = k_spl_john)\n",
    "\n",
    "# Funzione che va a fare i fit in maniera automatica a partire dai dati ottenuti\n",
    "def optimizer(path):\n",
    "    df=pd.read_csv(path)\n",
    "    popt, pcov = curve_fit(\n",
    "        Trans.beer_lambert,\n",
    "        df[(df[\"lambda\"] < 800e-9) & (df[\"lambda\"] > 300e-9)][\"lambda\"],\n",
    "        df[(df[\"lambda\"] < 800e-9) & (df[\"lambda\"] > 300e-9)][\"polished\"],\n",
    "        p0=60e-9,\n",
    "    )\n",
    "    return popt, pcov\n",
    "\n",
    "\n",
    "# Funzione che itera su tutti i file contenuti nella cartella \"./data\"\n",
    "def iterazione(path):\n",
    "    data =[i for i in path.iterdir() if i.match(\"*spettrofotometro\")]\n",
    "    # print(data)\n",
    "    for i in data:\n",
    "        subfolder = [j for j in i.iterdir() if j.is_dir()]\n",
    "        for folder in subfolder:\n",
    "            if folder.match(\"ELAB\"):\n",
    "                for file in folder.iterdir():\n",
    "                    print(file)\n",
    "                    print(optimizer(file))    \n",
    "            else:\n",
    "                print(\"La cartella non è Elab... gestiamo logica dopo\")\n",
    "                print(folder)\n",
    "                iterazione_spettro(folder)\n",
    "\n",
    "# In alcuni casi non si trova subito la cartella \"ELAB\", in quei casi bisogna scendere ancora di un livello\n",
    "def iterazione_spettro(path):\n",
    "    print(\"launching iterazione_spettro\")\n",
    "    print(path)\n",
    "    elab = [i for i in path.iterdir() if i.match(\"ELAB\")]\n",
    "    print(elab)\n",
    "    for i in elab:\n",
    "        for file in i.iterdir():\n",
    "            print(file)\n",
    "            print(optimizer(file))\n",
    "\n",
    "# Finalmente lanciamo la cazzo di funzione\n",
    "iterazione(dir)\n",
    "   "
   ]
  },
  {
   "cell_type": "code",
   "execution_count": null,
   "metadata": {},
   "outputs": [],
   "source": []
  }
 ],
 "metadata": {
  "kernelspec": {
   "display_name": "codeLab",
   "language": "python",
   "name": "python3"
  },
  "language_info": {
   "codemirror_mode": {
    "name": "ipython",
    "version": 3
   },
   "file_extension": ".py",
   "mimetype": "text/x-python",
   "name": "python",
   "nbconvert_exporter": "python",
   "pygments_lexer": "ipython3",
   "version": "3.10.11"
  },
  "orig_nbformat": 4
 },
 "nbformat": 4,
 "nbformat_minor": 2
}
