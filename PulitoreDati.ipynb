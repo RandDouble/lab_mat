{
 "cells": [
  {
   "attachments": {},
   "cell_type": "markdown",
   "metadata": {},
   "source": [
    "# Fit fatti 21 Aprile"
   ]
  },
  {
   "cell_type": "code",
   "execution_count": 2,
   "metadata": {},
   "outputs": [
    {
     "name": "stderr",
     "output_type": "stream",
     "text": [
      "/tmp/ipykernel_6720/2061166480.py:7: MatplotlibDeprecationWarning: The seaborn styles shipped by Matplotlib are deprecated since 3.6, as they no longer correspond to the styles shipped by seaborn. However, they will remain available as 'seaborn-v0_8-<style>'. Alternatively, directly use the seaborn API instead.\n",
      "  plt.style.use(\"seaborn\")\n"
     ]
    }
   ],
   "source": [
    "import Functions_Tries.plotter as plotter\n",
    "import Functions_Tries.cleaner as cleaner\n",
    "import matplotlib.pyplot as plt\n",
    "import pandas as pd\n",
    "import numpy as np\n",
    "\n",
    "plt.style.use(\"seaborn\")"
   ]
  },
  {
   "cell_type": "code",
   "execution_count": 3,
   "metadata": {},
   "outputs": [],
   "source": [
    "kwords = {\n",
    "    'skiprows' : 75,\n",
    "    'names' : (\"lambda\", \"transmittance\")\n",
    "\n",
    "}\n",
    "\n",
    "# df_zero = pd.read_table(\n",
    "#     \"data/21-04/Aria-Aria-900-350.txt\",\n",
    "#     **kwords    \n",
    "# )\n",
    "\n",
    "# df_test = pd.read_table(\n",
    "#     \"data/21-04/AU_vetro-Vetro-900-350.txt\",\n",
    "#     **kwords    \n",
    "# )\n",
    "\n",
    "# df_test_1 = pd.read_table(\n",
    "#     \"./data/21-04/AU-Vetro-Vetro-900-350-5nm_1.txt\",\n",
    "#     **kwords\n",
    "# )\n",
    "\n",
    "# df_test_2 = pd.read_table(\n",
    "#     \"./data/21-04/AU-Vetro-Vetro-900-350-5nm_2.txt\",\n",
    "#     **kwords\n",
    "# )\n",
    "# df_test_PDMS_1 = pd.read_table(\n",
    "#     \"./data/21-04/AU-PDMS-Vetro-PDMS-Vetro-900-350_1.txt\", \n",
    "#     **kwords\n",
    "# )\n",
    "\n",
    "\n",
    "# df_zero[(df_zero[\"lambda\"]<850)].plot(\"lambda\", \"transmittance\", title=\"aria-aria\" )\n",
    "# df_test[(df_test[\"lambda\"]<850)].plot(\"lambda\", \"transmittance\", title=\"Oro-Aria\" )\n",
    "# df_test_1[(df_test[\"lambda\"]<850)].plot(\"lambda\", \"transmittance\", title=\"Oro-Aria 1\" )\n",
    "# df_test_2[(df_test[\"lambda\"]<850)].plot(\"lambda\", \"transmittance\", title=\"Oro-Aria 2\" )\n",
    "# df_test_PDMS_1[(df_test[\"lambda\"]<850)].plot(\"lambda\", \"transmittance\", title=\"Oro_PDMS - PDMS\" )"
   ]
  },
  {
   "cell_type": "code",
   "execution_count": 4,
   "metadata": {},
   "outputs": [
    {
     "ename": "FileNotFoundError",
     "evalue": "[Errno 2] No such file or directory: 'data/21-04_spettrofotometro'",
     "output_type": "error",
     "traceback": [
      "\u001b[0;31m---------------------------------------------------------------------------\u001b[0m",
      "\u001b[0;31mFileNotFoundError\u001b[0m                         Traceback (most recent call last)",
      "Cell \u001b[0;32mIn[4], line 1\u001b[0m\n\u001b[0;32m----> 1\u001b[0m cleaner\u001b[39m.\u001b[39;49mclean_dir(\u001b[39m\"\u001b[39;49m\u001b[39mdata/21-04_spettrofotometro/\u001b[39;49m\u001b[39m\"\u001b[39;49m, \u001b[39m\"\u001b[39;49m\u001b[39mdata/21-04_spettrofotometro/Aria-Aria-900-350.txt\u001b[39;49m\u001b[39m\"\u001b[39;49m, params_data\u001b[39m=\u001b[39;49mkwords, params_zero\u001b[39m=\u001b[39;49mkwords)\n\u001b[1;32m      3\u001b[0m cleaner\u001b[39m.\u001b[39mclean_dir(\u001b[39m\"\u001b[39m\u001b[39mdata/2-05_spettrofotometro/\u001b[39m\u001b[39m\"\u001b[39m, \u001b[39m\"\u001b[39m\u001b[39mdata/2-05_spettrofotometro/Aria-Aria-Trasm_1.txt\u001b[39m\u001b[39m\"\u001b[39m, params_data\u001b[39m=\u001b[39mkwords, params_zero\u001b[39m=\u001b[39mkwords)\n\u001b[1;32m      5\u001b[0m cleaner\u001b[39m.\u001b[39mclean_dir(\u001b[39m\"\u001b[39m\u001b[39mdata/5-05_spettrofotometro/vetrino1_spettrofotometro/\u001b[39m\u001b[39m\"\u001b[39m, \u001b[39m\"\u001b[39m\u001b[39mdata/5-05_spettrofotometro/vetrino1_spettrofotometro/air_air_trasm_1.txt\u001b[39m\u001b[39m\"\u001b[39m, params_data\u001b[39m=\u001b[39mkwords, params_zero\u001b[39m=\u001b[39mkwords)\n",
      "File \u001b[0;32m~/lab_mat/Functions_Tries/cleaner.py:70\u001b[0m, in \u001b[0;36mclean_dir\u001b[0;34m(path, path_zero, params_data, params_zero, col_name, new_col_name)\u001b[0m\n\u001b[1;32m     53\u001b[0m \u001b[39mdef\u001b[39;00m \u001b[39mclean_dir\u001b[39m(\n\u001b[1;32m     54\u001b[0m     path: \u001b[39mstr\u001b[39m \u001b[39m|\u001b[39m Path,\n\u001b[1;32m     55\u001b[0m     path_zero: \u001b[39mstr\u001b[39m \u001b[39m|\u001b[39m Path,\n\u001b[0;32m   (...)\u001b[0m\n\u001b[1;32m     59\u001b[0m     new_col_name: \u001b[39mstr\u001b[39m \u001b[39m=\u001b[39m \u001b[39m\"\u001b[39m\u001b[39mpolished\u001b[39m\u001b[39m\"\u001b[39m,\n\u001b[1;32m     60\u001b[0m ):\n\u001b[1;32m     61\u001b[0m \u001b[39m    \u001b[39m\u001b[39m\"\"\"\u001b[39;00m\n\u001b[1;32m     62\u001b[0m \u001b[39m    To automatize cleaning od various data, in this way we do not need to write the same thing over and over:\u001b[39;00m\n\u001b[1;32m     63\u001b[0m \u001b[39m    - path: path where datas are contained\u001b[39;00m\n\u001b[0;32m   (...)\u001b[0m\n\u001b[1;32m     68\u001b[0m \u001b[39m    - new_col_name: name of the new column produced\u001b[39;00m\n\u001b[1;32m     69\u001b[0m \u001b[39m    \"\"\"\u001b[39;00m\n\u001b[0;32m---> 70\u001b[0m     \u001b[39mfor\u001b[39;00m obj \u001b[39min\u001b[39;00m Path(path)\u001b[39m.\u001b[39miterdir():\n\u001b[1;32m     71\u001b[0m         \u001b[39mprint\u001b[39m(obj)\n\u001b[1;32m     72\u001b[0m         \u001b[39mif\u001b[39;00m obj\u001b[39m.\u001b[39mis_dir() \u001b[39mis\u001b[39;00m \u001b[39mFalse\u001b[39;00m \u001b[39mand\u001b[39;00m obj\u001b[39m.\u001b[39mstem \u001b[39m!=\u001b[39m \u001b[39m\"\u001b[39m\u001b[39m.DS_Store\u001b[39m\u001b[39m\"\u001b[39m:\n",
      "File \u001b[0;32m~/miniconda3/envs/codeLab310/lib/python3.10/pathlib.py:1017\u001b[0m, in \u001b[0;36mPath.iterdir\u001b[0;34m(self)\u001b[0m\n\u001b[1;32m   1013\u001b[0m \u001b[39mdef\u001b[39;00m \u001b[39miterdir\u001b[39m(\u001b[39mself\u001b[39m):\n\u001b[1;32m   1014\u001b[0m \u001b[39m    \u001b[39m\u001b[39m\"\"\"Iterate over the files in this directory.  Does not yield any\u001b[39;00m\n\u001b[1;32m   1015\u001b[0m \u001b[39m    result for the special paths '.' and '..'.\u001b[39;00m\n\u001b[1;32m   1016\u001b[0m \u001b[39m    \"\"\"\u001b[39;00m\n\u001b[0;32m-> 1017\u001b[0m     \u001b[39mfor\u001b[39;00m name \u001b[39min\u001b[39;00m \u001b[39mself\u001b[39;49m\u001b[39m.\u001b[39;49m_accessor\u001b[39m.\u001b[39;49mlistdir(\u001b[39mself\u001b[39;49m):\n\u001b[1;32m   1018\u001b[0m         \u001b[39mif\u001b[39;00m name \u001b[39min\u001b[39;00m {\u001b[39m'\u001b[39m\u001b[39m.\u001b[39m\u001b[39m'\u001b[39m, \u001b[39m'\u001b[39m\u001b[39m..\u001b[39m\u001b[39m'\u001b[39m}:\n\u001b[1;32m   1019\u001b[0m             \u001b[39m# Yielding a path object for these makes little sense\u001b[39;00m\n\u001b[1;32m   1020\u001b[0m             \u001b[39mcontinue\u001b[39;00m\n",
      "\u001b[0;31mFileNotFoundError\u001b[0m: [Errno 2] No such file or directory: 'data/21-04_spettrofotometro'"
     ]
    }
   ],
   "source": [
    "cleaner.clean_dir(\"data/21-04/\", \"data/21-04/Aria-Aria-900-350.txt\", params_data=kwords, params_zero=kwords)\n",
    "\n",
    "cleaner.clean_dir(\"data/2-05_spettrofotometro/\", \"data/2-05_spettrofotometro/Aria-Aria-Trasm_1.txt\", params_data=kwords, params_zero=kwords)\n",
    "\n",
    "cleaner.clean_dir(\"data/5-05_spettrofotometro/vetrino1_spettrofotometro/\", \"data/5-05_spettrofotometro/vetrino1_spettrofotometro/air_air_trasm_1.txt\", params_data=kwords, params_zero=kwords)\n",
    "cleaner.clean_dir(\"data/5-05_spettrofotometro/vetrino2_spettrofotometro/\", \"data/5-05_spettrofotometro/vetrino2_spettrofotometro/air_air_trasm_2.txt\", params_data=kwords, params_zero=kwords)\n",
    "cleaner.clean_dir(\"data/5-05_spettrofotometro/vetrino3_spettrofotometro/\", \"data/5-05_spettrofotometro/vetrino2_spettrofotometro/air_air_trasm_2.txt\", params_data=kwords, params_zero=kwords)\n",
    "\n",
    "cleaner.clean_dir(\"data/9_05_spettrofotometro/\", \"data/9_05_spettrofotometro/air_ar_trasm_1_1.txt\", params_data=kwords, params_zero=kwords)\n",
    "\n",
    "cleaner.clean_dir(\"data/12-05_spettrofotometro/\", \"data/12-05_spettrofotometro/Aria-Aria_Trasm_1.txt\", params_data=kwords, params_zero=kwords)"
   ]
  }
 ],
 "metadata": {
  "kernelspec": {
   "display_name": "codeLab",
   "language": "python",
   "name": "python3"
  },
  "language_info": {
   "codemirror_mode": {
    "name": "ipython",
    "version": 3
   },
   "file_extension": ".py",
   "mimetype": "text/x-python",
   "name": "python",
   "nbconvert_exporter": "python",
   "pygments_lexer": "ipython3",
   "version": "3.10.11"
  },
  "orig_nbformat": 4
 },
 "nbformat": 4,
 "nbformat_minor": 2
}
