{
 "cells": [
  {
   "attachments": {},
   "cell_type": "markdown",
   "metadata": {},
   "source": [
    "# Fit fatti 21 Aprile"
   ]
  },
  {
   "cell_type": "code",
   "execution_count": 18,
   "metadata": {},
   "outputs": [
    {
     "name": "stderr",
     "output_type": "stream",
     "text": [
      "C:\\Users\\ginob\\AppData\\Local\\Temp\\ipykernel_11252\\2061166480.py:7: MatplotlibDeprecationWarning: The seaborn styles shipped by Matplotlib are deprecated since 3.6, as they no longer correspond to the styles shipped by seaborn. However, they will remain available as 'seaborn-v0_8-<style>'. Alternatively, directly use the seaborn API instead.\n",
      "  plt.style.use(\"seaborn\")\n"
     ]
    }
   ],
   "source": [
    "import Functions_Tries.plotter as plotter\n",
    "import Functions_Tries.cleaner as cleaner\n",
    "import matplotlib.pyplot as plt\n",
    "import pandas as pd\n",
    "import numpy as np\n",
    "\n",
    "plt.style.use(\"seaborn\")"
   ]
  },
  {
   "cell_type": "code",
   "execution_count": 19,
   "metadata": {},
   "outputs": [],
   "source": [
    "kwords = {\n",
    "    'skiprows' : 75,\n",
    "    'names' : (\"lambda\", \"transmittance\")\n",
    "\n",
    "}\n",
    "\n",
    "df_zero = pd.read_csv(\n",
    "    \"data/21-04_spettrofotometro/ELAB/Aria-Aria-900-350.csv\" \n",
    ")\n",
    "\n",
    "df_test = pd.read_csv(\n",
    "    \"data/21-04_spettrofotometro/ELAB/AU_vetro-Vetro-900-350.csv\" \n",
    ")\n",
    "\n",
    "df_test_1 = pd.read_csv(\n",
    "    \"./data/21-04_spettrofotometro/ELAB/AU-Vetro-Vetro-900-350-5nm_1.csv\"\n",
    ")\n",
    "\n",
    "df_test_2 = pd.read_csv(\n",
    "    \"./data/21-04_spettrofotometro/ELAB/AU-Vetro-Vetro-900-350-5nm_2.csv\"\n",
    ")\n",
    "df_test_PDMS_1 = pd.read_csv(\n",
    "    \"./data/21-04_spettrofotometro/ELAB/AU-PDMS-Vetro-PDMS-Vetro-900-350_1.csv\"\n",
    ")\n",
    "\n",
    "\n",
    "#df_zero[(df_zero[\"lambda\"]<850)].plot(\"lambda\", \"transmittance\", title=\"aria-aria\" )\n",
    "#df_test[(df_test[\"lambda\"]<850)].plot(\"lambda\", \"transmittance\", title=\"Oro-Aria\" )\n",
    "#df_test_1[(df_test[\"lambda\"]<850)].plot(\"lambda\", \"transmittance\", title=\"Oro-Aria 1\" )\n",
    "#df_test_2[(df_test[\"lambda\"]<850)].plot(\"lambda\", \"transmittance\", title=\"Oro-Aria 2\" )\n",
    "#df_test_PDMS_1[(df_test[\"lambda\"]<850)].plot(\"lambda\", \"transmittance\", title=\"Oro_PDMS - PDMS\" )"
   ]
  },
  {
   "cell_type": "code",
   "execution_count": 20,
   "metadata": {},
   "outputs": [
    {
     "name": "stdout",
     "output_type": "stream",
     "text": [
      "data\\21-04\\Aria-Aria-900-350.txt\n",
      "data\\21-04\\ELAB\n",
      "data\\21-04\\AU-PDMS-Vetro-PDMS-Vetro-900-350_1.txt\n",
      "data\\21-04\\ELAB\n",
      "data\\21-04\\AU-Vetro-Vetro-900-350-5nm_1.txt\n",
      "data\\21-04\\ELAB\n",
      "data\\21-04\\AU-Vetro-Vetro-900-350-5nm_2.txt\n",
      "data\\21-04\\ELAB\n",
      "data\\21-04\\AU_vetro-Vetro-900-350.txt\n",
      "data\\21-04\\ELAB\n",
      "data\\21-04\\ELAB\n"
     ]
    }
   ],
   "source": [
    "cleaner.clean_dir(\"data/21-04_spettrofotometro/\", \"data/21-04_spettrofotometro/Aria-Aria-900-350.txt\", params_data=kwords, params_zero=kwords)"
   ]
  },
  {
   "attachments": {},
   "cell_type": "markdown",
   "metadata": {},
   "source": [
    "SPETTRI VETRINO NUMERO 2"
   ]
  },
  {
   "cell_type": "code",
   "execution_count": 21,
   "metadata": {},
   "outputs": [],
   "source": [
    "kwords = {\n",
    "    'skiprows' : 75,\n",
    "    'names' : (\"lambda\", \"transmittance\")\n",
    "\n",
    "}\n",
    "\n",
    "df_zero = pd.read_csv(\n",
    "    \"./data/5-05/vetrino1_spettrofotometro/ELAB/air_air_trasm_1.csv\"    \n",
    ")\n",
    "\n",
    "df_test = pd.read_csv(\n",
    "    \"./data/5-05/vetrino3_spettrofotometro/ELAB/vetroAU-vetro_1_1.csv\"\n",
    ")\n",
    "\n",
    "df_test_1 = pd.read_csv(\n",
    "    \"./data/5-05/vetrino3_spettrofotometro/ELAB/vetroAU-vetro_2_1.csv\"\n",
    ")\n",
    "\n",
    "df_test_2 = pd.read_csv(\n",
    "    \"./data/5-05/vetrino3_spettrofotometro/ELAB/vetroAU-vetro_3_1.csv\"\n",
    ")\n",
    "\n",
    "df_test_4 = pd.read_table(\n",
    "    \"./data/5-05/vetroAU-vetro_5_1.txt\", \n",
    "    **kwords\n",
    ")\n",
    "#df_zero[(df_zero[\"lambda\"]<850)].plot(\"lambda\", \"transmittance\", title=\"aria-aria\" )\n",
    "#df_test[(df_test[\"lambda\"]<850)].plot(\"lambda\", \"transmittance\", title=\"Oro-Aria\" )\n",
    "#df_test_1[(df_test[\"lambda\"]<850)].plot(\"lambda\", \"transmittance\", title=\"Oro-Aria 1\" )\n",
    "#df_test_2[(df_test[\"lambda\"]<850)].plot(\"lambda\", \"transmittance\", title=\"Oro-Aria 2\" )\n",
    "#df_test_3[(df_test[\"lambda\"]<850)].plot(\"lambda\", \"transmittance\", title=\"Oro_Aria 3\" )\n",
    "#df_test_4[(df_test[\"lambda\"]<850)].plot(\"lambda\", \"transmittance\", title=\"Oro_Aria 4\" )"
   ]
  },
  {
   "cell_type": "code",
   "execution_count": 22,
   "metadata": {},
   "outputs": [
    {
     "name": "stdout",
     "output_type": "stream",
     "text": [
      "data\\5-05\\air_air_trasm_1.txt\n",
      "data\\5-05\\ELAB\n",
      "data\\5-05\\ELAB\n",
      "data\\5-05\\vetrino3\n",
      "data\\5-05\\vetroAU-vetro_1_1.txt\n",
      "data\\5-05\\ELAB\n",
      "data\\5-05\\vetroAU-vetro_2_1.txt\n",
      "data\\5-05\\ELAB\n",
      "data\\5-05\\vetroAU-vetro_3_1.txt\n",
      "data\\5-05\\ELAB\n",
      "data\\5-05\\vetroAU-vetro_4_1.txt\n",
      "data\\5-05\\ELAB\n",
      "data\\5-05\\vetroAU-vetro_5_1.txt\n",
      "data\\5-05\\ELAB\n"
     ]
    }
   ],
   "source": [
    "cleaner.clean_dir(\"data/5-05/vetrino3_spettrofotometro/\", \"data/5-05/vetrino1_spettrofotometro/air_air_trasm_1.txt\", params_data=kwords, params_zero=kwords)"
   ]
  },
  {
   "cell_type": "code",
   "execution_count": 23,
   "metadata": {},
   "outputs": [],
   "source": [
    "kwords = {\n",
    "    'skiprows' : 75,\n",
    "    'names' : (\"lambda\", \"transmittance\")\n",
    "\n",
    "}\n",
    "\n",
    "df_zero = pd.read_table(\n",
    "    \"./data/5-05/air_air_trasm_1.txt\",\n",
    "    **kwords    \n",
    ")\n",
    "\n",
    "df_test = pd.read_table(\n",
    "    \"./data/5-05/vetroAU-vetro_1_1.txt\",\n",
    "    **kwords    \n",
    ")\n",
    "\n",
    "df_test_1 = pd.read_table(\n",
    "    \"./data/5-05/vetroAU-vetro_2_1.txt\",\n",
    "    **kwords\n",
    ")\n",
    "\n",
    "df_test_2 = pd.read_table(\n",
    "    \"./data/5-05/vetroAU-vetro_3_1.txt\",\n",
    "    **kwords\n",
    ")\n",
    "df_test_3 = pd.read_table(\n",
    "    \"./data/5-05/vetroAU-vetro_4_1.txt\", \n",
    "    **kwords\n",
    ")\n",
    "\n",
    "df_test_4 = pd.read_table(\n",
    "    \"./data/5-05/vetroAU-vetro_5_1.txt\", \n",
    "    **kwords\n",
    ")\n",
    "#df_zero[(df_zero[\"lambda\"]<850)].plot(\"lambda\", \"transmittance\", title=\"aria-aria\" )\n",
    "#df_test[(df_test[\"lambda\"]<850)].plot(\"lambda\", \"transmittance\", title=\"Oro-Aria\" )\n",
    "#df_test_1[(df_test[\"lambda\"]<850)].plot(\"lambda\", \"transmittance\", title=\"Oro-Aria 1\" )\n",
    "#df_test_2[(df_test[\"lambda\"]<850)].plot(\"lambda\", \"transmittance\", title=\"Oro-Aria 2\" )\n",
    "#df_test_3[(df_test[\"lambda\"]<850)].plot(\"lambda\", \"transmittance\", title=\"Oro_Aria 3\" )\n",
    "#df_test_4[(df_test[\"lambda\"]<850)].plot(\"lambda\", \"transmittance\", title=\"Oro_Aria 4\" )"
   ]
  }
 ],
 "metadata": {
  "kernelspec": {
   "display_name": "codeLab",
   "language": "python",
   "name": "python3"
  },
  "language_info": {
   "codemirror_mode": {
    "name": "ipython",
    "version": 3
   },
   "file_extension": ".py",
   "mimetype": "text/x-python",
   "name": "python",
   "nbconvert_exporter": "python",
   "pygments_lexer": "ipython3",
   "version": "3.10.9"
  },
  "orig_nbformat": 4
 },
 "nbformat": 4,
 "nbformat_minor": 2
}
