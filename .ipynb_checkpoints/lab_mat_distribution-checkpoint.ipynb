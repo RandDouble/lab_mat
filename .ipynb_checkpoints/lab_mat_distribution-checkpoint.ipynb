{
 "cells": [
  {
   "cell_type": "markdown",
   "id": "ac755d48",
   "metadata": {},
   "source": [
    "# Non ho voglia di fare integrali\n",
    "Li faccio fare a un computer\n",
    "\n",
    "Prendo in input la seguente distribuzione\n",
    "$$\n",
    "    \\frac{dM_r}{dA_r}(\\theta, \\phi) = \\frac{M_e}{\\pi r^2} \\cos \\theta \\cos \\phi \n",
    "$$\n",
    "\n",
    "Questa ha il problema di essere una distribuzione data da una sorgente puntiforme. Bisogna evolvere la formula verso una sorgente non puntiforme... questo va pensato. Iniziamo a fare delle considerazioni.\n",
    "\n",
    "Parto pensando che la superfice ricevente e quella emettente siano parallele, in questo caso si ha che $\\theta = \\phi$.\n",
    "Quindi posso ridurre il problema a\n",
    "$$\n",
    "    \\frac{dM_r}{dA_r}(\\theta) = \\frac{M_e}{\\pi r^2} \\cos^2 \\theta \n",
    "$$"
   ]
  },
  {
   "cell_type": "code",
   "execution_count": 3,
   "id": "12487022",
   "metadata": {},
   "outputs": [],
   "source": [
    "#import simpy as sp\n",
    "import numpy as np\n",
    "import matplotlib.pyplot as plt"
   ]
  }
 ],
 "metadata": {
  "kernelspec": {
   "display_name": "Python 3 (ipykernel)",
   "language": "python",
   "name": "python3"
  },
  "language_info": {
   "codemirror_mode": {
    "name": "ipython",
    "version": 3
   },
   "file_extension": ".py",
   "mimetype": "text/x-python",
   "name": "python",
   "nbconvert_exporter": "python",
   "pygments_lexer": "ipython3",
   "version": "3.9.16"
  }
 },
 "nbformat": 4,
 "nbformat_minor": 5
}
